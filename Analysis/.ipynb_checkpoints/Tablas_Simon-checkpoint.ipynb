{
 "cells": [
  {
   "cell_type": "code",
   "execution_count": 1,
   "id": "a3b9cfdd",
   "metadata": {},
   "outputs": [],
   "source": [
    "from astropy.table import Table, column\n",
    "import numpy as np\n",
    "import pandas as pd\n",
    "import os\n",
    "import shutil"
   ]
  },
  {
   "cell_type": "code",
   "execution_count": 2,
   "id": "42fd9a64",
   "metadata": {},
   "outputs": [
    {
     "data": {
      "text/plain": [
       "756"
      ]
     },
     "execution_count": 2,
     "metadata": {},
     "output_type": "execute_result"
    }
   ],
   "source": [
    "from astropy.table import Table\n",
    "\n",
    "# Leer la tabla\n",
    "tabla = Table.read('GalfitM_DECALS_183.csv', format='ascii')\n",
    "\n",
    "# Seleccionar las columnas relevantes\n",
    "columnas = ['CHI2NU','n_g', 'e_n_g', 'n_r', 'e_n_r', 'n_i', 'e_n_i', 'n_z', 'e_n_z']\n",
    "tabla = tabla[columnas]\n",
    "# Convertir las columnas de string a float\n",
    "for col in columnas[1:9]:\n",
    "    tabla[col] = [float(value.replace('*', '').strip()) for value in tabla[col]]\n",
    "count_nonzero = []\n",
    "cols_a_sumar = ['n_g', 'n_r', 'n_i', 'n_z']\n",
    "for row in tabla:\n",
    "    count_nonzero.append(sum(1 for col in cols_a_sumar if row[col] != 0.0))\n",
    "\n",
    "# Agregar la columna 'Filtros' a la tabla\n",
    "tabla['Filtros'] = count_nonzero\n",
    "tabla\n",
    "# Mostrar la tabla con la nueva columna\n",
    "len(tabla)\n",
    "#tabla.write('/home/seba/Documents/n_filtros.csv', format='csv', overwrite=True)"
   ]
  },
  {
   "cell_type": "code",
   "execution_count": 40,
   "id": "74e03a57",
   "metadata": {},
   "outputs": [
    {
     "name": "stdout",
     "output_type": "stream",
     "text": [
      "Archivos y directorios copiados con éxito.\n"
     ]
    }
   ],
   "source": [
    "# Leer la tabla con los índices de galaxias\n",
    "tabla = Table.read('/home/seba/Documents/galaxies_1_arcmin.csv', format='ascii')\n",
    "\n",
    "# Convertir la columna 'index' a una lista\n",
    "indices = tabla['index'].astype(str).tolist()\n",
    "\n",
    "# Definir la base del directorio y los directorios de origen y destino\n",
    "base_dir = '/home/seba/Documents/'\n",
    "directorio_destino = os.path.join(base_dir, 'DECALS/simon')\n",
    "joined_bricks_cs = os.path.join(base_dir, 'DECALS/joined_bricks_cs')\n",
    "sigma_image_cs = os.path.join(base_dir, 'DECALS/sigma_image_cs')\n",
    "control_sample = os.path.join(base_dir, 'MorphoLS/sex/Control_Sample')\n",
    "psf_cs = os.path.join(base_dir, 'MorphoLS/Field_Img/psf_cs')\n",
    "mask_cs = os.path.join(base_dir, 'MorphoLS/Field_Img/mask_cs')\n",
    "\n",
    "# Crear el directorio de destino si no existe\n",
    "os.makedirs(directorio_destino, exist_ok=True)\n",
    "\n",
    "# Función para copiar archivos y directorios\n",
    "def copiar_archivos_y_directorios(index):\n",
    "    # Crear carpeta Galaxy_{index} en el directorio de destino\n",
    "    galaxy_dir = os.path.join(directorio_destino, f'Galaxy_{index}')\n",
    "    os.makedirs(galaxy_dir, exist_ok=True)\n",
    "    \n",
    "    # Copiar el directorio de joined_bricks_cs\n",
    "    joined_brick_dir = os.path.join(joined_bricks_cs, index)\n",
    "    if os.path.exists(joined_brick_dir):\n",
    "        destino_joined_brick = os.path.join(galaxy_dir, f'{index}_joined_bricks')\n",
    "        shutil.copytree(joined_brick_dir, destino_joined_brick)\n",
    "\n",
    "    # Copiar el directorio de sigma_image_cs\n",
    "    sigma_image_dir = os.path.join(sigma_image_cs, index)\n",
    "    if os.path.exists(sigma_image_dir):\n",
    "        destino_sigma_image = os.path.join(galaxy_dir, f'{index}_sigma_image')\n",
    "        shutil.copytree(sigma_image_dir, destino_sigma_image)\n",
    "\n",
    "    # Copiar el archivo de Control_sample\n",
    "    control_sample_file = os.path.join(control_sample, f'Galaxy_{index}.csv')\n",
    "    if os.path.exists(control_sample_file):\n",
    "        destino_control_sample = os.path.join(galaxy_dir, f'{index}_control_sample.csv')\n",
    "        shutil.copy(control_sample_file, destino_control_sample)\n",
    "    \n",
    "    mask_file = os.path.join(mask_cs, f'mask_galaxy_{index}.fits')\n",
    "    if os.path.exists(mask_file):\n",
    "        destino_mask = os.path.join(galaxy_dir, f'{index}_mask.fits')\n",
    "        shutil.copy(mask_file, destino_mask)\n",
    "\n",
    "    # Copiar los archivos de psf_cs\n",
    "    for filtro in ['g', 'r', 'i', 'z']:\n",
    "        psf_file = os.path.join(psf_cs, f'psf_galaxy_{index}_{filtro}.fits')\n",
    "        if os.path.exists(psf_file):\n",
    "            destino_psf = os.path.join(galaxy_dir, f'{index}_psf_{filtro}.fits')\n",
    "            shutil.copy(psf_file, destino_psf)\n",
    "\n",
    "# Iterar sobre los índices y copiar los archivos y directorios correspondientes\n",
    "for index in indices:\n",
    "    copiar_archivos_y_directorios(index)\n",
    "\n",
    "print(\"Archivos y directorios copiados con éxito.\")"
   ]
  },
  {
   "cell_type": "code",
   "execution_count": null,
   "id": "1511dd2e",
   "metadata": {},
   "outputs": [],
   "source": []
  }
 ],
 "metadata": {
  "kernelspec": {
   "display_name": "Python 3 (ipykernel)",
   "language": "python",
   "name": "python3"
  },
  "language_info": {
   "codemirror_mode": {
    "name": "ipython",
    "version": 3
   },
   "file_extension": ".py",
   "mimetype": "text/x-python",
   "name": "python",
   "nbconvert_exporter": "python",
   "pygments_lexer": "ipython3",
   "version": "3.11.4"
  }
 },
 "nbformat": 4,
 "nbformat_minor": 5
}
