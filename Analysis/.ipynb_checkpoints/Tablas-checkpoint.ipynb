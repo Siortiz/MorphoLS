{
 "cells": [
  {
   "cell_type": "code",
   "execution_count": 1,
   "id": "733356b7",
   "metadata": {},
   "outputs": [],
   "source": [
    "from astropy.table import Table, vstack, unique, Column\n",
    "import matplotlib.pyplot as plt\n",
    "from astropy.io import fits\n",
    "import pandas as pd\n",
    "import numpy as np"
   ]
  },
  {
   "cell_type": "code",
   "execution_count": 22,
   "id": "26c43036",
   "metadata": {},
   "outputs": [
    {
     "name": "stdout",
     "output_type": "stream",
     "text": [
      "Se ha generado la tabla con las galaxias coincidentes.\n"
     ]
    }
   ],
   "source": [
    "# Supongamos que las tablas están en formato Astropy\n",
    "# Lee tus dos tablas\n",
    "tabla1 = Table.read('sfr_decals.csv', format='ascii')  # Ajusta el formato si no es .fits\n",
    "tabla2 = Table.read('/home/seba/Documents/CG/isolated_sample_dr4.csv', format='ascii')\n",
    "\n",
    "# Columna con las masas estelares\n",
    "masa1 = tabla1['log(M_stellar)']\n",
    "masa2 = tabla2['stellar_mass']\n",
    "\n",
    "# Definir margen de error\n",
    "margen_error = 0.02\n",
    "\n",
    "# Crear una lista para almacenar las coincidencias\n",
    "coincidencias = []\n",
    "\n",
    "# Iterar sobre las masas de la tabla 1 y buscar coincidencias en la tabla 2 con margen de error\n",
    "for masa in masa1:\n",
    "    # Buscar las filas en tabla 2 con masas dentro del margen de error\n",
    "    coincidencia = tabla2[(masa2 >= masa - margen_error) & (masa2 <= masa + margen_error)]\n",
    "    \n",
    "    if len(coincidencia) > 0:\n",
    "        coincidencias.append(coincidencia[:2])\n",
    "\n",
    "# Combinar las filas con coincidencias en una nueva tabla\n",
    "if coincidencias:\n",
    "    tabla_coincidencias = vstack(coincidencias)\n",
    "    # Guardar la tabla resultante\n",
    "    tabla_coincidencias.write('tabla_coincidencias.csv', overwrite=True)\n",
    "    print(\"Se ha generado la tabla con las galaxias coincidentes.\")\n",
    "else:\n",
    "    print(\"No se encontraron coincidencias dentro del margen de error.\")"
   ]
  },
  {
   "cell_type": "code",
   "execution_count": 24,
   "id": "cc8ff617",
   "metadata": {},
   "outputs": [
    {
     "data": {
      "text/html": [
       "<div><i>Table length=837</i>\n",
       "<table id=\"table139865238611408\" class=\"table-striped table-bordered table-condensed\">\n",
       "<thead><tr><th>galaxy_id</th><th>NYU_id</th><th>z_source_id</th><th>ra</th><th>dec</th><th>z</th><th>r</th><th>r_limit</th><th>completeness</th><th>M_r</th><th>stellar_mass</th><th>g-r</th></tr></thead>\n",
       "<thead><tr><th>int64</th><th>int64</th><th>int64</th><th>float64</th><th>float64</th><th>float64</th><th>float64</th><th>float64</th><th>float64</th><th>float64</th><th>float64</th><th>float64</th></tr></thead>\n",
       "<tr><td>8381</td><td>46339</td><td>-1</td><td>50.827048039</td><td>0.939851718</td><td>0.03649</td><td>16.5292015</td><td>17.6762009</td><td>0.9783</td><td>-18.67589</td><td>9.462924</td><td>0.5099239</td></tr>\n",
       "<tr><td>20873</td><td>83054</td><td>-1</td><td>225.494379291</td><td>-0.114305473</td><td>0.040195</td><td>17.2897015</td><td>17.7066994</td><td>0.9275</td><td>-18.1190796</td><td>9.460351</td><td>0.7752819</td></tr>\n",
       "<tr><td>11682</td><td>59859</td><td>-1</td><td>202.212351563</td><td>-0.365463142</td><td>0.021745</td><td>17.5394001</td><td>17.7129993</td><td>0.9643</td><td>-16.5181885</td><td>8.597683</td><td>0.4837341</td></tr>\n",
       "<tr><td>13147</td><td>63296</td><td>-1</td><td>205.532765705</td><td>0.010247091</td><td>0.025179</td><td>17.3973007</td><td>17.7129993</td><td>0.7953</td><td>-16.9666996</td><td>8.5803366</td><td>0.3011742</td></tr>\n",
       "<tr><td>9023</td><td>51819</td><td>-1</td><td>248.685882619</td><td>0.402132206</td><td>0.025652</td><td>16.0889015</td><td>17.6767006</td><td>0.8071</td><td>-18.2963505</td><td>9.4059048</td><td>0.5818729</td></tr>\n",
       "<tr><td>9519</td><td>53945</td><td>-1</td><td>198.051997604</td><td>-1.09513651</td><td>0.040873</td><td>16.6725998</td><td>17.7224998</td><td>0.7904</td><td>-18.8124981</td><td>9.4254274</td><td>0.4123688</td></tr>\n",
       "<tr><td>8601</td><td>50783</td><td>-1</td><td>245.367351214</td><td>-0.45708113</td><td>0.059077</td><td>15.3290997</td><td>17.6604004</td><td>0.8077</td><td>-20.919138</td><td>10.6588011</td><td>0.8123131</td></tr>\n",
       "<tr><td>8815</td><td>51303</td><td>-1</td><td>247.600037192</td><td>-0.084795106</td><td>0.113344</td><td>16.8313999</td><td>17.6658001</td><td>0.8462</td><td>-20.8886185</td><td>10.6740131</td><td>0.8654041</td></tr>\n",
       "<tr><td>11931</td><td>60370</td><td>-1</td><td>215.872440631</td><td>-0.377673685</td><td>0.031813</td><td>17.4654007</td><td>17.7129993</td><td>0.8271</td><td>-17.4676971</td><td>8.7129946</td><td>0.1652603</td></tr>\n",
       "<tr><td>...</td><td>...</td><td>...</td><td>...</td><td>...</td><td>...</td><td>...</td><td>...</td><td>...</td><td>...</td><td>...</td><td>...</td></tr>\n",
       "<tr><td>8863</td><td>51488</td><td>-1</td><td>237.865911303</td><td>0.235595301</td><td>0.087763</td><td>17.3055</td><td>17.6767006</td><td>0.8824</td><td>-19.8455524</td><td>9.9333715</td><td>0.4926624</td></tr>\n",
       "<tr><td>22089</td><td>86529</td><td>-1</td><td>195.875906256</td><td>0.390655256</td><td>0.07949</td><td>17.4204998</td><td>17.7007999</td><td>0.8791</td><td>-19.5009441</td><td>9.9452896</td><td>0.6594887</td></tr>\n",
       "<tr><td>256891</td><td>708096</td><td>-1</td><td>58.000211824</td><td>0.016380795</td><td>0.082929</td><td>17.3206005</td><td>17.7798996</td><td>0.9587</td><td>-19.6831875</td><td>10.3056736</td><td>0.949131</td></tr>\n",
       "<tr><td>8598</td><td>50776</td><td>-1</td><td>244.925607986</td><td>-0.4558338</td><td>0.079005</td><td>16.829401</td><td>17.6604004</td><td>0.7818</td><td>-20.0750446</td><td>10.2919426</td><td>0.7529831</td></tr>\n",
       "<tr><td>22112</td><td>86571</td><td>-1</td><td>197.393578501</td><td>0.314833279</td><td>0.083153</td><td>17.8875999</td><td>17.7007999</td><td>0.927</td><td>-19.1470356</td><td>9.6087093</td><td>0.3307228</td></tr>\n",
       "<tr><td>8821</td><td>51313</td><td>-1</td><td>247.966787392</td><td>-0.090794968</td><td>0.046715</td><td>17.1640015</td><td>17.6658001</td><td>0.8462</td><td>-18.5616894</td><td>9.6000957</td><td>0.6915188</td></tr>\n",
       "<tr><td>256892</td><td>708097</td><td>-1</td><td>58.016658979</td><td>0.036783138</td><td>0.082309</td><td>16.8082008</td><td>17.7798996</td><td>0.9587</td><td>-20.181736</td><td>10.4478168</td><td>0.9307709</td></tr>\n",
       "<tr><td>8497</td><td>50583</td><td>-1</td><td>239.886103793</td><td>-0.423757457</td><td>0.120525</td><td>17.2922001</td><td>17.6602993</td><td>0.9085</td><td>-20.5645924</td><td>10.4464808</td><td>0.7648182</td></tr>\n",
       "<tr><td>17654</td><td>75127</td><td>-1</td><td>216.443400748</td><td>-0.836713199</td><td>0.013755</td><td>17.6613007</td><td>17.7157001</td><td>0.8632</td><td>-15.3465586</td><td>8.1641798</td><td>0.5180769</td></tr>\n",
       "<tr><td>34168</td><td>118469</td><td>-1</td><td>197.275564621</td><td>-2.642948192</td><td>0.012989</td><td>16.9737015</td><td>17.6907997</td><td>0.8247</td><td>-15.9832354</td><td>8.1585703</td><td>0.2841549</td></tr>\n",
       "</table></div>"
      ],
      "text/plain": [
       "<Table length=837>\n",
       "galaxy_id NYU_id z_source_id ...     M_r     stellar_mass    g-r   \n",
       "  int64   int64     int64    ...   float64     float64     float64 \n",
       "--------- ------ ----------- ... ----------- ------------ ---------\n",
       "     8381  46339          -1 ...   -18.67589     9.462924 0.5099239\n",
       "    20873  83054          -1 ... -18.1190796     9.460351 0.7752819\n",
       "    11682  59859          -1 ... -16.5181885     8.597683 0.4837341\n",
       "    13147  63296          -1 ... -16.9666996    8.5803366 0.3011742\n",
       "     9023  51819          -1 ... -18.2963505    9.4059048 0.5818729\n",
       "     9519  53945          -1 ... -18.8124981    9.4254274 0.4123688\n",
       "     8601  50783          -1 ...  -20.919138   10.6588011 0.8123131\n",
       "     8815  51303          -1 ... -20.8886185   10.6740131 0.8654041\n",
       "    11931  60370          -1 ... -17.4676971    8.7129946 0.1652603\n",
       "      ...    ...         ... ...         ...          ...       ...\n",
       "     8863  51488          -1 ... -19.8455524    9.9333715 0.4926624\n",
       "    22089  86529          -1 ... -19.5009441    9.9452896 0.6594887\n",
       "   256891 708096          -1 ... -19.6831875   10.3056736  0.949131\n",
       "     8598  50776          -1 ... -20.0750446   10.2919426 0.7529831\n",
       "    22112  86571          -1 ... -19.1470356    9.6087093 0.3307228\n",
       "     8821  51313          -1 ... -18.5616894    9.6000957 0.6915188\n",
       "   256892 708097          -1 ...  -20.181736   10.4478168 0.9307709\n",
       "     8497  50583          -1 ... -20.5645924   10.4464808 0.7648182\n",
       "    17654  75127          -1 ... -15.3465586    8.1641798 0.5180769\n",
       "    34168 118469          -1 ... -15.9832354    8.1585703 0.2841549"
      ]
     },
     "execution_count": 24,
     "metadata": {},
     "output_type": "execute_result"
    }
   ],
   "source": [
    "coin = Table.read('tabla_coincidencias.csv', format='ascii')\n",
    "coin\n",
    "#plt.hist(coin['stellar_mass'])"
   ]
  },
  {
   "cell_type": "code",
   "execution_count": 3,
   "id": "6036a5ed",
   "metadata": {},
   "outputs": [
    {
     "name": "stdout",
     "output_type": "stream",
     "text": [
      "\n",
      "Primer valor en los arrays de FLUX para los índices 1, 2, 3:\n",
      "0.0\n",
      "0.0\n",
      "0.0\n",
      "\n",
      "Primer valor en los arrays de NAME para los índices 1, 2, 3:\n",
      "HeII\n",
      "HeII\n",
      "HeII\n"
     ]
    }
   ],
   "source": [
    "# Abre la tabla FITS\n",
    "with fits.open('spectra_low_mass.fits') as hdul:\n",
    "    data = Table(hdul[1].data)  # Suponiendo que la tabla está en la extensión 1\n",
    "# Acceder al primer valor dentro de los arrays de FLUX para los índices 1, 2 y 3\n",
    "print(\"\\nPrimer valor en los arrays de FLUX para los índices 1, 2, 3:\")\n",
    "print(data['FLUX'][1][0])  # Primer valor en el array del índice 1\n",
    "print(data['FLUX'][2][0])  # Primer valor en el array del índice 2\n",
    "print(data['FLUX'][3][0])  # Primer valor en el array del índice 3\n",
    "# Acceder al primer valor dentro de los arrays de FLUX para los índices 1, 2 y 3\n",
    "print(\"\\nPrimer valor en los arrays de NAME para los índices 1, 2, 3:\")\n",
    "print(data['NAME'][1][0])  # Primer valor en el array del índice 1\n",
    "print(data['NAME'][2][0])  # Primer valor en el array del índice 2\n",
    "print(data['NAME'][3][0])  # Primer valor en el array del índice 3"
   ]
  },
  {
   "cell_type": "code",
   "execution_count": 4,
   "id": "7515bf7e",
   "metadata": {},
   "outputs": [
    {
     "name": "stdout",
     "output_type": "stream",
     "text": [
      "NAME: HeII, LAMBDA: 3203.14990234375\n",
      "NAME: [NeV], LAMBDA: 3345.81005859375\n",
      "NAME: [NeV], LAMBDA: 3425.81005859375\n",
      "NAME: [OII], LAMBDA: 3726.030029296875\n",
      "NAME: [OII], LAMBDA: 3728.72998046875\n",
      "NAME: [NeIII], LAMBDA: 3868.68994140625\n",
      "NAME: [NeIII], LAMBDA: 3967.39990234375\n",
      "NAME: H5, LAMBDA: 3889.050048828125\n",
      "NAME: He, LAMBDA: 3970.070068359375\n",
      "NAME: Hd, LAMBDA: 4101.72998046875\n",
      "NAME: Hg, LAMBDA: 4340.4599609375\n",
      "NAME: [OIII], LAMBDA: 4363.14990234375\n",
      "NAME: HeII, LAMBDA: 4685.740234375\n",
      "NAME: [ArIV], LAMBDA: 4711.2998046875\n",
      "NAME: [ArIV], LAMBDA: 4740.10009765625\n",
      "NAME: Hb, LAMBDA: 4861.31982421875\n",
      "NAME: [OIII], LAMBDA: 4958.830078125\n",
      "NAME: [OIII], LAMBDA: 5006.77001953125\n",
      "NAME: [NI], LAMBDA: 5197.89990234375\n",
      "NAME: [NI], LAMBDA: 5200.39013671875\n",
      "NAME: HeI, LAMBDA: 5875.60009765625\n",
      "NAME: [OI], LAMBDA: 6300.2001953125\n",
      "NAME: [OI], LAMBDA: 6363.669921875\n",
      "NAME: [NII], LAMBDA: 6547.9599609375\n",
      "NAME: Ha, LAMBDA: 6562.7998046875\n",
      "NAME: [NII], LAMBDA: 6583.33984375\n",
      "NAME: [SII], LAMBDA: 6716.31005859375\n",
      "NAME: [SII], LAMBDA: 6730.68017578125\n"
     ]
    }
   ],
   "source": [
    "for i in range(28):\n",
    "    print(f\"NAME: {data['NAME'][0][i]}, LAMBDA: {data['LAMBDA'][0][i]}\")"
   ]
  },
  {
   "cell_type": "code",
   "execution_count": 5,
   "id": "e524a3c4",
   "metadata": {},
   "outputs": [
    {
     "name": "stdout",
     "output_type": "stream",
     "text": [
      "[inf, inf, 8.66800057709217, inf, 8.770261374235153, inf, inf, inf, inf, inf, inf, inf, inf, 8.710251021146775, inf, inf, inf, inf, 8.83056568813324, inf, 9.010301740646362, inf, inf, inf, 8.579103950619697, 8.916590259075164, 8.868390814065933, 9.117207095623016, 8.700128340482712, inf, inf, inf, 8.114945635795593, 8.73151660990715, 8.441351461052895, inf]\n"
     ]
    },
    {
     "name": "stderr",
     "output_type": "stream",
     "text": [
      "/tmp/ipykernel_4984/148490185.py:7: RuntimeWarning: divide by zero encountered in log10\n",
      "  o3n2 = np.log10((O3/Hb)*(Ha/N2))\n"
     ]
    }
   ],
   "source": [
    "met = []\n",
    "for i in range(len(data)):\n",
    "    O3 = data['FLUX'][i][18] \n",
    "    N2 = data['FLUX'][i][26]\n",
    "    Ha = data['FLUX'][i][25]\n",
    "    Hb = data['FLUX'][i][16]\n",
    "    o3n2 = np.log10((O3/Hb)*(Ha/N2))\n",
    "    met.append(8.533-0.214*o3n2)\n",
    "print(met)"
   ]
  },
  {
   "cell_type": "code",
   "execution_count": 6,
   "id": "a45bb836",
   "metadata": {},
   "outputs": [
    {
     "data": {
      "text/html": [
       "<div><i>Table length=36</i>\n",
       "<table id=\"table140072599098768\" class=\"table-striped table-bordered table-condensed\">\n",
       "<thead><tr><th>Group_1</th><th>Gal_1</th><th>log(M_stellar)</th><th>ra_1</th><th>dec_1</th><th>zmemb</th><th>PLATE</th><th>MJD</th><th>FIBERID</th><th>RA</th><th>DEC</th><th>Z</th><th>Z_ERR</th><th>ZNUM</th><th>VEL_STARS</th><th>REDSHIFT</th><th>SIGMA_STARS</th><th>SIGMA_STARS_ERR</th><th>CHISQ</th><th>FILENAME</th><th>BPT</th><th>NAME</th><th>LAMBDA</th><th>KIND</th><th>A</th><th>V</th><th>V_ERR</th><th>SIG</th><th>SIG_ERR</th><th>AMPLITUDE</th><th>AMPLITUDE_ERR</th><th>FLUX</th><th>FLUX_ERR</th><th>EW</th><th>EW_ERR</th><th>FLUX_CONT</th><th>FLUX_CONT_ERR</th><th>AON</th><th>EBMV</th><th>EBMV_ERR</th><th>EBMV_SFD</th><th>FIT_WARNING</th><th>ERROR_WARNING</th><th>LEGACY_TARGET1</th><th>LEGACY_TARGET2</th><th>SPECIAL_TARGET1</th><th>SPECIAL_TARGET2</th><th>BOSS_TARGET1</th><th>BOSS_TARGET2</th><th>ANCILLARY_TARGET1</th><th>ANCILLARY_TARGET2</th><th>SPECPRIMARY</th><th>SPECOBJID</th><th>Separation</th><th>12 + log(O/H)</th></tr></thead>\n",
       "<thead><tr><th>int16</th><th>int16</th><th>float64</th><th>float64</th><th>float64</th><th>float64</th><th>int32</th><th>int32</th><th>int32</th><th>float64</th><th>float64</th><th>float32</th><th>float32</th><th>int32</th><th>float32</th><th>float32</th><th>float32</th><th>float32</th><th>float32</th><th>str30</th><th>str13</th><th>str7[28]</th><th>float32[28]</th><th>str3[28]</th><th>float32[28]</th><th>float32[28]</th><th>float32[28]</th><th>float32[28]</th><th>float32[28]</th><th>float32[28]</th><th>float32[28]</th><th>float32[28]</th><th>float32[28]</th><th>float32[28]</th><th>float32[28]</th><th>float32[28]</th><th>float32[28]</th><th>float32[28]</th><th>float32</th><th>float32</th><th>float32</th><th>int16[28]</th><th>int32</th><th>int32</th><th>int32</th><th>int64</th><th>int64</th><th>int64</th><th>int64</th><th>int64</th><th>int64</th><th>uint8</th><th>str22</th><th>float64</th><th>float64</th></tr></thead>\n",
       "<tr><td>20</td><td>3</td><td>7.772830640581066</td><td>13.04660065707238</td><td>-1.128448197229796</td><td>0.104819</td><td>394</td><td>51812</td><td>128</td><td>13.045936</td><td>-1.1293047</td><td>0.10479305</td><td>7.582706e-06</td><td>1</td><td>29925.217</td><td>0.10497176</td><td>57.6708</td><td>19.925512</td><td>0.97096354</td><td>emlinekin-0394-51812-0128.fits</td><td>Star Forming</td><td>HeII .. [SII]</td><td>3203.15 .. 6730.68</td><td>l .. l</td><td>1.0 .. 1.0</td><td>29925.217 .. 29966.56</td><td>-0.0 .. 10.107811</td><td>10.0 .. 42.681717</td><td>-0.0 .. 18.63259</td><td>0.0 .. 7.321438</td><td>-0.0 .. 0.5315187</td><td>0.0 .. 34.086617</td><td>0.0 .. 5.7318726</td><td>0.0 .. 3.9874082</td><td>nan .. 0.67156243</td><td>0.0 .. 6.452994</td><td>0.0 .. 0.015923684</td><td>0.0 .. 4.428616</td><td>0.09479862</td><td>0.011441072</td><td>0.05147986</td><td>0 .. 0</td><td>0</td><td>64</td><td>0</td><td>0</td><td>0</td><td>0</td><td>0</td><td>0</td><td>0</td><td>0</td><td>443639778068424704</td><td>3.9026300575056796</td><td>inf</td></tr>\n",
       "<tr><td>74</td><td>1</td><td>7.9862205089680245</td><td>128.6624563525526</td><td>15.76384033243654</td><td>0.106065</td><td>2276</td><td>53712</td><td>94</td><td>128.66204</td><td>15.762943</td><td>0.10599749</td><td>9.185569e-06</td><td>1</td><td>30295.12</td><td>0.10633598</td><td>63.85318</td><td>15.270122</td><td>0.9318393</td><td>emlinekin-2276-53712-0094.fits</td><td>Star Forming</td><td>HeII .. [SII]</td><td>3203.15 .. 6730.68</td><td>l .. l</td><td>1.0 .. 1.0</td><td>30295.12 .. 30289.947</td><td>-0.0 .. 16.67095</td><td>10.0 .. 61.99127</td><td>-0.0 .. 22.19779</td><td>0.0 .. 3.9729035</td><td>-0.0 .. 0.41491294</td><td>0.0 .. 21.599339</td><td>0.0 .. 4.9596663</td><td>0.0 .. 2.4309597</td><td>nan .. 0.5587871</td><td>0.0 .. 6.304284</td><td>0.0 .. 0.017898167</td><td>0.0 .. 2.7043192</td><td>0.11567445</td><td>0.016539726</td><td>0.036811687</td><td>0 .. 0</td><td>0</td><td>64</td><td>0</td><td>0</td><td>0</td><td>0</td><td>0</td><td>0</td><td>0</td><td>1</td><td>2562574088774117376</td><td>3.5378337618317413</td><td>inf</td></tr>\n",
       "<tr><td>74</td><td>3</td><td>8.430544515619072</td><td>128.6843710942975</td><td>15.79049411645369</td><td>0.10596</td><td>2276</td><td>53712</td><td>189</td><td>128.68383</td><td>15.790994</td><td>0.10593146</td><td>7.740058e-06</td><td>1</td><td>30263.098</td><td>0.10621782</td><td>68.251434</td><td>11.904828</td><td>0.95008165</td><td>emlinekin-2276-53712-0189.fits</td><td>Star Forming</td><td>HeII .. [SII]</td><td>3203.15 .. 6730.68</td><td>l .. l</td><td>1.0 .. 1.0</td><td>30263.098 .. 30263.098</td><td>-0.0 .. 6.595423</td><td>10.0 .. 10.0</td><td>-0.0 .. 14.15442</td><td>0.0 .. 11.347637</td><td>-0.0 .. 0.8411631</td><td>0.0 .. 44.016552</td><td>0.0 .. 4.1881514</td><td>0.0 .. 2.786167</td><td>nan .. 0.27029058</td><td>0.0 .. 13.620479</td><td>0.0 .. 0.033450976</td><td>0.0 .. 7.646227</td><td>0.05</td><td>0.010877682</td><td>0.037374504</td><td>0 .. 0</td><td>0</td><td>64</td><td>0</td><td>0</td><td>0</td><td>0</td><td>0</td><td>0</td><td>0</td><td>1</td><td>2562600202175277056</td><td>2.5984556015576437</td><td>8.66800057709217</td></tr>\n",
       "<tr><td>79</td><td>1</td><td>9.137470795690707</td><td>143.0164322817605</td><td>16.01371716945271</td><td>0.040354</td><td>2579</td><td>54068</td><td>458</td><td>143.0165</td><td>16.013753</td><td>0.04032821</td><td>6.198394e-06</td><td>1</td><td>11907.62</td><td>0.040518917</td><td>37.726185</td><td>25.627554</td><td>0.9239217</td><td>emlinekin-2579-54068-0458.fits</td><td>Star Forming</td><td>HeII .. [SII]</td><td>3203.15 .. 6730.68</td><td>l .. l</td><td>1.0 .. 1.0</td><td>11907.62 .. 11944.591</td><td>-0.0 .. 7.032623</td><td>10.0 .. 29.539167</td><td>-0.0 .. 10.131913</td><td>0.0 .. 10.191402</td><td>-0.0 .. 0.87438935</td><td>0.0 .. 40.720844</td><td>0.0 .. 5.7624536</td><td>0.0 .. 5.3685527</td><td>nan .. 0.76537234</td><td>0.0 .. 5.180303</td><td>0.0 .. 0.014750721</td><td>0.0 .. 4.3860826</td><td>0.12854184</td><td>0.032134943</td><td>0.039786033</td><td>0 .. 0</td><td>0</td><td>64</td><td>0</td><td>0</td><td>0</td><td>0</td><td>0</td><td>0</td><td>0</td><td>1</td><td>2903821822078248960</td><td>0.26748261239135673</td><td>inf</td></tr>\n",
       "<tr><td>89</td><td>4</td><td>9.175860806143362</td><td>157.034626533431</td><td>31.20686057030345</td><td>0.044971</td><td>1959</td><td>53440</td><td>205</td><td>157.03472</td><td>31.206943</td><td>0.044917926</td><td>6.581841e-06</td><td>1</td><td>13249.793</td><td>0.045187768</td><td>21.733822</td><td>120.835236</td><td>0.93897223</td><td>emlinekin-1959-53440-0205.fits</td><td>Star Forming</td><td>HeII .. [SII]</td><td>3203.15 .. 6730.68</td><td>l .. l</td><td>1.0 .. 1.0</td><td>13249.793 .. 13260.745</td><td>-0.0 .. 6.8863454</td><td>10.0 .. 41.656197</td><td>-0.0 .. 9.249683</td><td>0.0 .. 6.725983</td><td>-0.0 .. 0.513154</td><td>0.0 .. 29.387651</td><td>0.0 .. 2.8969254</td><td>0.0 .. 3.580529</td><td>nan .. 0.64846927</td><td>0.0 .. 8.074096</td><td>0.0 .. 0.029010825</td><td>0.0 .. 3.705201</td><td>0.0055294726</td><td>0.008537623</td><td>0.018930575</td><td>0 .. 0</td><td>0</td><td>64</td><td>0</td><td>0</td><td>0</td><td>0</td><td>0</td><td>0</td><td>0</td><td>1</td><td>2205694325189273600</td><td>0.41337969300303795</td><td>8.770261374235153</td></tr>\n",
       "<tr><td>90</td><td>3</td><td>9.4501171871972</td><td>160.105463817595</td><td>24.22891625645232</td><td>0.04348</td><td>2477</td><td>54058</td><td>376</td><td>160.10548</td><td>24.228927</td><td>0.043454923</td><td>9.076785e-06</td><td>1</td><td>12816.169</td><td>0.043677088</td><td>38.257687</td><td>10.116678</td><td>1.0245626</td><td>emlinekin-2477-54058-0376.fits</td><td>Star Forming</td><td>HeII .. [SII]</td><td>3203.15 .. 6730.68</td><td>l .. l</td><td>1.0 .. 1.0</td><td>12816.169 .. 12851.251</td><td>-0.0 .. 5.8411446</td><td>10.0 .. 54.136494</td><td>-0.0 .. 7.260457</td><td>0.0 .. 8.885359</td><td>-0.0 .. 0.58310825</td><td>0.0 .. 42.764046</td><td>0.0 .. 4.264743</td><td>0.0 .. 3.3043892</td><td>nan .. inf</td><td>0.0 .. 12.941589</td><td>0.0 .. 0.048810843</td><td>0.0 .. 6.144587</td><td>0.0</td><td>0.01040091</td><td>0.022847604</td><td>0 .. 0</td><td>0</td><td>64</td><td>0</td><td>0</td><td>0</td><td>0</td><td>0</td><td>0</td><td>0</td><td>1</td><td>2788957491424159744</td><td>0.0657127018616395</td><td>inf</td></tr>\n",
       "<tr><td>90</td><td>1</td><td>7.755469692828418</td><td>160.0979346994472</td><td>24.218117062578</td><td>0.111183</td><td>2352</td><td>53770</td><td>14</td><td>160.09854</td><td>24.218287</td><td>0.11115974</td><td>8.401248e-06</td><td>1</td><td>31672.775</td><td>0.1114317</td><td>61.696705</td><td>11.752376</td><td>0.9244844</td><td>emlinekin-2352-53770-0014.fits</td><td>Star Forming</td><td>HeII .. [SII]</td><td>3203.15 .. 6730.68</td><td>l .. l</td><td>1.0 .. 1.0</td><td>31672.775 .. 31691.676</td><td>-0.0 .. 5.9338236</td><td>10.0 .. 66.50477</td><td>-0.0 .. 7.0648217</td><td>0.0 .. 14.210815</td><td>-0.0 .. 0.8631307</td><td>0.0 .. 80.51934</td><td>0.0 .. 8.039815</td><td>0.0 .. 4.7043004</td><td>nan .. 0.48051545</td><td>0.0 .. 14.747173</td><td>0.0 .. 0.041189164</td><td>0.0 .. 8.991081</td><td>0.050217185</td><td>0.012441217</td><td>0.022868423</td><td>0 .. 0</td><td>0</td><td>64</td><td>0</td><td>0</td><td>0</td><td>0</td><td>0</td><td>0</td><td>0</td><td>1</td><td>2648120492434679808</td><td>2.0793345460198878</td><td>inf</td></tr>\n",
       "<tr><td>97</td><td>2</td><td>8.210492452829067</td><td>167.5168502117463</td><td>-1.004677110111772</td><td>0.109852</td><td>278</td><td>51900</td><td>87</td><td>167.51669</td><td>-1.004932</td><td>0.10983154</td><td>5.241182e-06</td><td>1</td><td>31292.236</td><td>0.110021815</td><td>60.77303</td><td>17.663563</td><td>0.8074952</td><td>emlinekin-0278-51900-0087.fits</td><td>Star Forming</td><td>HeII .. [SII]</td><td>3203.15 .. 6730.68</td><td>l .. l</td><td>1.0 .. 1.0</td><td>31292.236 .. 31324.732</td><td>-0.0 .. 2.8140624</td><td>10.0 .. 70.23535</td><td>-0.0 .. 2.9334517</td><td>0.0 .. 36.013668</td><td>-0.0 .. 1.1107897</td><td>0.0 .. 210.0459</td><td>0.0 .. 9.56908</td><td>0.0 .. 11.45418</td><td>nan .. 0.5315096</td><td>0.0 .. 14.027466</td><td>0.0 .. 0.032545533</td><td>0.0 .. 21.292032</td><td>0.09032694</td><td>0.010048654</td><td>0.037194945</td><td>0 .. 0</td><td>0</td><td>68</td><td>0</td><td>0</td><td>0</td><td>0</td><td>0</td><td>0</td><td>0</td><td>1</td><td>313024120356890624</td><td>1.083766026256064</td><td>inf</td></tr>\n",
       "<tr><td>98</td><td>4</td><td>8.893872163420314</td><td>168.0198611603887</td><td>29.40156252050033</td><td>0.033857</td><td>2213</td><td>53792</td><td>490</td><td>168.01984</td><td>29.401582</td><td>0.033828836</td><td>6.5691984e-06</td><td>1</td><td>10013.283</td><td>0.033964787</td><td>20.677439</td><td>547.2275</td><td>1.0491047</td><td>emlinekin-2213-53792-0490.fits</td><td>Star Forming</td><td>HeII .. [SII]</td><td>3203.15 .. 6730.68</td><td>l .. l</td><td>1.0 .. 1.0</td><td>10013.283 .. 10064.756</td><td>-0.0 .. 7.6574287</td><td>10.0 .. 44.926533</td><td>-0.0 .. 9.827466</td><td>0.0 .. 6.1460333</td><td>-0.0 .. 0.5608419</td><td>0.0 .. 27.242157</td><td>0.0 .. 3.8076842</td><td>0.0 .. 4.652131</td><td>nan .. 0.67234445</td><td>0.0 .. 4.9959655</td><td>0.0 .. 0.017336689</td><td>0.0 .. 3.4857311</td><td>0.053534474</td><td>0.022961088</td><td>0.028999556</td><td>0 .. 0</td><td>0</td><td>64</td><td>0</td><td>0</td><td>0</td><td>0</td><td>0</td><td>0</td><td>0</td><td>1</td><td>2491751247636359168</td><td>0.09655102283452369</td><td>inf</td></tr>\n",
       "<tr><td>...</td><td>...</td><td>...</td><td>...</td><td>...</td><td>...</td><td>...</td><td>...</td><td>...</td><td>...</td><td>...</td><td>...</td><td>...</td><td>...</td><td>...</td><td>...</td><td>...</td><td>...</td><td>...</td><td>...</td><td>...</td><td>...</td><td>...</td><td>...</td><td>...</td><td>...</td><td>...</td><td>...</td><td>...</td><td>...</td><td>...</td><td>...</td><td>...</td><td>...</td><td>...</td><td>...</td><td>...</td><td>...</td><td>...</td><td>...</td><td>...</td><td>...</td><td>...</td><td>...</td><td>...</td><td>...</td><td>...</td><td>...</td><td>...</td><td>...</td><td>...</td><td>...</td><td>...</td><td>...</td><td>...</td></tr>\n",
       "<tr><td>176</td><td>3</td><td>9.176339811137433</td><td>238.378110723174</td><td>20.98374316650619</td><td>0.018608</td><td>2171</td><td>53557</td><td>135</td><td>238.37832</td><td>20.983724</td><td>0.01856479</td><td>6.2868794e-06</td><td>1</td><td>5568.8306</td><td>0.01874922</td><td>54.821213</td><td>12.525317</td><td>0.899389</td><td>emlinekin-2171-53557-0135.fits</td><td>Star Forming</td><td>HeII .. [SII]</td><td>3203.15 .. 6730.68</td><td>l .. l</td><td>1.0 .. 1.0</td><td>5568.8306 .. 5596.905</td><td>-0.0 .. 3.9888623</td><td>10.0 .. 29.356985</td><td>-0.0 .. 5.876232</td><td>0.0 .. 15.343763</td><td>-0.0 .. 0.84427893</td><td>0.0 .. 59.95398</td><td>0.0 .. 3.995284</td><td>0.0 .. 3.4739788</td><td>nan .. 0.3013031</td><td>0.0 .. 16.412376</td><td>0.0 .. 0.06235608</td><td>0.0 .. 8.6539755</td><td>0.01693618</td><td>0.009862804</td><td>0.050187964</td><td>0 .. 0</td><td>0</td><td>64</td><td>0</td><td>0</td><td>0</td><td>0</td><td>0</td><td>0</td><td>0</td><td>1</td><td>2444365865949358080</td><td>0.7068088781794418</td><td>8.868390814065933</td></tr>\n",
       "<tr><td>176</td><td>1</td><td>8.265182184454776</td><td>238.3661403755266</td><td>20.96810893908589</td><td>0.01876</td><td>2171</td><td>53557</td><td>126</td><td>238.36635</td><td>20.968117</td><td>0.018555185</td><td>6.392734e-06</td><td>1</td><td>5564.327</td><td>0.018733917</td><td>37.016415</td><td>22.938047</td><td>0.96626246</td><td>emlinekin-2171-53557-0126.fits</td><td>Star Forming</td><td>HeII .. [SII]</td><td>3203.15 .. 6730.68</td><td>l .. l</td><td>1.0 .. 1.0</td><td>5564.327 .. 5603.376</td><td>-0.0 .. 1.5976602</td><td>10.0 .. 28.259304</td><td>-0.0 .. 2.0598676</td><td>0.0 .. 48.786835</td><td>-0.0 .. 1.8554504</td><td>0.0 .. 189.33052</td><td>0.0 .. 8.733993</td><td>0.0 .. 14.445062</td><td>nan .. 0.80305934</td><td>0.0 .. 11.80049</td><td>0.0 .. 0.03223415</td><td>0.0 .. 18.352287</td><td>0.035395578</td><td>0.012150422</td><td>0.049848806</td><td>0 .. 0</td><td>0</td><td>66</td><td>0</td><td>0</td><td>0</td><td>0</td><td>0</td><td>0</td><td>0</td><td>1</td><td>2444363392048195584</td><td>0.705272369746789</td><td>9.117207095623016</td></tr>\n",
       "<tr><td>243</td><td>2</td><td>8.32482850377416</td><td>146.8749693372368</td><td>30.38880616977882</td><td>0.016952</td><td>1946</td><td>53432</td><td>135</td><td>146.87527</td><td>30.388954</td><td>0.016883962</td><td>8.275673e-06</td><td>1</td><td>5056.087</td><td>0.017008314</td><td>16.052568</td><td>145.55156</td><td>0.9044353</td><td>emlinekin-1946-53432-0135.fits</td><td>Star Forming</td><td>HeII .. [SII]</td><td>3203.15 .. 6730.68</td><td>l .. l</td><td>1.0 .. 1.0</td><td>5056.087 .. 5056.1064</td><td>-0.0 .. 15.215516</td><td>10.0 .. 10.0085335</td><td>-0.0 .. 30.552984</td><td>0.0 .. 2.77532</td><td>-0.0 .. 0.48927563</td><td>0.0 .. 9.897308</td><td>0.0 .. 2.6568747</td><td>0.0 .. 2.6894398</td><td>nan .. 0.7288407</td><td>0.0 .. 3.1729903</td><td>0.0 .. 0.012653566</td><td>0.0 .. 1.925011</td><td>0.049976725</td><td>0.021402197</td><td>0.01904347</td><td>0 .. 0</td><td>0</td><td>64</td><td>0</td><td>0</td><td>0</td><td>0</td><td>0</td><td>0</td><td>0</td><td>1</td><td>2191038384812615680</td><td>1.074700569415301</td><td>8.700128340482712</td></tr>\n",
       "<tr><td>243</td><td>3</td><td>8.960217844407609</td><td>146.8826141204588</td><td>30.39818456029343</td><td>0.017184</td><td>1947</td><td>53431</td><td>366</td><td>146.88255</td><td>30.398406</td><td>0.017114555</td><td>6.724505e-06</td><td>1</td><td>5123.054</td><td>0.017235516</td><td>39.46209</td><td>20.6025</td><td>1.0210133</td><td>emlinekin-1947-53431-0366.fits</td><td>Star Forming</td><td>HeII .. [SII]</td><td>3203.15 .. 6730.68</td><td>l .. l</td><td>1.0 .. 1.0</td><td>5123.054 .. 5138.968</td><td>-0.0 .. 9.0006</td><td>10.0 .. 16.873865</td><td>-0.0 .. 17.923014</td><td>0.0 .. 6.051161</td><td>-0.0 .. 0.7170248</td><td>0.0 .. 22.092625</td><td>0.0 .. 3.819341</td><td>0.0 .. 3.2556095</td><td>nan .. 0.5924938</td><td>0.0 .. 6.0691743</td><td>0.0 .. 0.02371199</td><td>0.0 .. 2.7553382</td><td>0.0376343</td><td>0.023873175</td><td>0.018961566</td><td>0 .. 0</td><td>0</td><td>64</td><td>0</td><td>0</td><td>0</td><td>0</td><td>0</td><td>0</td><td>0</td><td>1</td><td>2192227781499185152</td><td>0.8216700776727717</td><td>inf</td></tr>\n",
       "<tr><td>243</td><td>5</td><td>8.800923787407951</td><td>146.8930822145775</td><td>30.41259558598308</td><td>0.022343</td><td>1947</td><td>53431</td><td>367</td><td>146.89313</td><td>30.412721</td><td>0.022318238</td><td>2.5439691e-05</td><td>1</td><td>6704.5146</td><td>0.0226158</td><td>6.9030194</td><td>91088280000.0</td><td>1.0518919</td><td>emlinekin-1947-53431-0367.fits</td><td>Star Forming</td><td>HeII .. [SII]</td><td>3203.15 .. 6730.68</td><td>l .. l</td><td>1.0 .. 1.0</td><td>6704.5146 .. 6759.0522</td><td>-0.0 .. 32.508614</td><td>10.0 .. 63.968533</td><td>-0.0 .. 40.03276</td><td>0.0 .. 1.3915395</td><td>-0.0 .. 0.4064275</td><td>0.0 .. 7.1075363</td><td>0.0 .. 2.6243932</td><td>0.0 .. 2.5848534</td><td>nan .. nan</td><td>0.0 .. 2.7496862</td><td>0.0 .. 0.011829403</td><td>0.0 .. 1.1033113</td><td>0.0</td><td>-0.0</td><td>0.01873795</td><td>0 .. 0</td><td>0</td><td>64</td><td>0</td><td>0</td><td>0</td><td>0</td><td>0</td><td>0</td><td>0</td><td>1</td><td>2192228056377092096</td><td>0.4752403517717904</td><td>inf</td></tr>\n",
       "<tr><td>248</td><td>4</td><td>8.562661815301336</td><td>195.033878757742</td><td>33.43766273681645</td><td>0.023498</td><td>2006</td><td>53476</td><td>195</td><td>195.03387</td><td>33.437666</td><td>0.023487035</td><td>6.489723e-06</td><td>1</td><td>7033.6206</td><td>0.023739021</td><td>38.293755</td><td>18.26909</td><td>0.89150316</td><td>emlinekin-2006-53476-0195.fits</td><td>Star Forming</td><td>HeII .. [SII]</td><td>3203.15 .. 6730.68</td><td>l .. l</td><td>1.0 .. 1.0</td><td>7033.6206 .. 7051.244</td><td>-0.0 .. 2.525738</td><td>10.0 .. 37.3461</td><td>-0.0 .. 3.1656153</td><td>0.0 .. 33.711876</td><td>-0.0 .. 1.4619716</td><td>0.0 .. 139.75398</td><td>0.0 .. 8.27934</td><td>0.0 .. 6.9400663</td><td>nan .. 0.45098445</td><td>0.0 .. 17.781046</td><td>0.0 .. 0.059454087</td><td>0.0 .. 18.921415</td><td>0.04194828</td><td>0.012586488</td><td>0.012248872</td><td>0 .. 0</td><td>0</td><td>66</td><td>0</td><td>0</td><td>0</td><td>0</td><td>0</td><td>0</td><td>0</td><td>1</td><td>2258608872635787264</td><td>0.028813119396736378</td><td>inf</td></tr>\n",
       "<tr><td>256</td><td>1</td><td>8.072048048681678</td><td>211.8383086842967</td><td>12.69505053047726</td><td>0.139371</td><td>1704</td><td>53178</td><td>87</td><td>211.83771</td><td>12.694565</td><td>0.13949464</td><td>1.6662172e-05</td><td>1</td><td>39190.574</td><td>0.13965511</td><td>145.47</td><td>10.697013</td><td>0.99306875</td><td>emlinekin-1704-53178-0087.fits</td><td>Star Forming</td><td>HeII .. [SII]</td><td>3203.15 .. 6730.68</td><td>l .. l</td><td>1.0 .. 1.0</td><td>39190.574 .. 39265.273</td><td>-0.0 .. 24.352093</td><td>10.0 .. 129.73378</td><td>-0.0 .. 29.004288</td><td>0.0 .. 3.6636665</td><td>-0.0 .. 0.38900712</td><td>0.0 .. 33.744072</td><td>0.0 .. 7.5809016</td><td>0.0 .. 1.6827731</td><td>nan .. 0.37814793</td><td>0.0 .. 15.538193</td><td>0.0 .. 0.03525611</td><td>0.0 .. 2.7525396</td><td>0.08598058</td><td>0.005092939</td><td>0.029081872</td><td>0 .. 0</td><td>0</td><td>64</td><td>0</td><td>0</td><td>0</td><td>0</td><td>0</td><td>0</td><td>0</td><td>1</td><td>1918557408955754496</td><td>2.734230784201718</td><td>8.114945635795593</td></tr>\n",
       "<tr><td>256</td><td>5</td><td>9.293700252466913</td><td>211.8743287276248</td><td>12.73514553097298</td><td>0.022959</td><td>1704</td><td>53178</td><td>89</td><td>211.87423</td><td>12.735181</td><td>0.022972684</td><td>6.678824e-06</td><td>1</td><td>6889.873</td><td>0.023248266</td><td>25.119678</td><td>162.75592</td><td>0.9862731</td><td>emlinekin-1704-53178-0089.fits</td><td>Star Forming</td><td>HeII .. [SII]</td><td>3203.15 .. 6730.68</td><td>l .. l</td><td>1.0 .. 1.0</td><td>6889.873 .. 6889.883</td><td>-0.0 .. 2.9132462</td><td>10.0 .. 10.017056</td><td>-0.0 .. 5.2167773</td><td>0.0 .. 27.455816</td><td>-0.0 .. 1.105607</td><td>0.0 .. 98.515465</td><td>0.0 .. 4.8814955</td><td>0.0 .. 4.0261064</td><td>nan .. 0.21017</td><td>0.0 .. 21.097656</td><td>0.0 .. 0.07878736</td><td>0.0 .. 15.305782</td><td>0.049975518</td><td>0.009270742</td><td>0.028232085</td><td>0 .. 0</td><td>0</td><td>64</td><td>0</td><td>0</td><td>0</td><td>0</td><td>0</td><td>0</td><td>0</td><td>1</td><td>1918557958711568384</td><td>0.3694435726123748</td><td>8.73151660990715</td></tr>\n",
       "<tr><td>273</td><td>5</td><td>7.6580199449019055</td><td>168.6477687319171</td><td>-0.8678292086364374</td><td>0.069293</td><td>279</td><td>51608</td><td>201</td><td>168.64726</td><td>-0.86755325</td><td>0.06926965</td><td>7.2431494e-06</td><td>1</td><td>20094.793</td><td>0.069326505</td><td>64.84555</td><td>18.412077</td><td>0.93748444</td><td>emlinekin-0279-51608-0201.fits</td><td>Star Forming</td><td>HeII .. [SII]</td><td>3203.15 .. 6730.68</td><td>l .. l</td><td>1.0 .. 1.0</td><td>20094.793 .. 20172.326</td><td>0.0 .. 5.6113625</td><td>10.0 .. 75.261734</td><td>0.0 .. 6.117278</td><td>0.0 .. 14.602487</td><td>0.0 .. 0.7056681</td><td>0.0 .. 85.430885</td><td>0.0 .. 5.1677322</td><td>0.0 .. 6.336609</td><td>nan .. nan</td><td>0.0 .. 13.482115</td><td>0.0 .. 0.037209123</td><td>0.0 .. 7.190771</td><td>0.0</td><td>0.0</td><td>0.04092294</td><td>0 .. 0</td><td>0</td><td>68</td><td>0</td><td>0</td><td>0</td><td>0</td><td>0</td><td>0</td><td>0</td><td>0</td><td>314181351446177792</td><td>2.083345789101601</td><td>8.441351461052895</td></tr>\n",
       "<tr><td>273</td><td>1</td><td>9.173247684468317</td><td>168.6037850872668</td><td>-0.8308699168587196</td><td>0.027858</td><td>279</td><td>51608</td><td>208</td><td>168.60381</td><td>-0.83079474</td><td>0.027816404</td><td>1.4682903e-05</td><td>1</td><td>8294.209</td><td>0.028052777</td><td>198.72237</td><td>87.82221</td><td>1.013172</td><td>emlinekin-0279-51608-0208.fits</td><td>Star Forming</td><td>HeII .. [SII]</td><td>3203.15 .. 6730.68</td><td>l .. l</td><td>1.0 .. 1.0</td><td>8294.209 .. 8301.995</td><td>0.0 .. 17.684435</td><td>10.0 .. 7.953576</td><td>0.0 .. 40.52651</td><td>0.0 .. 3.2586787</td><td>0.0 .. 0.73129356</td><td>0.0 .. 11.691584</td><td>0.0 .. 4.654078</td><td>0.0 .. 2.6804953</td><td>nan .. 1.1127791</td><td>0.0 .. 4.032402</td><td>0.0 .. 0.011354347</td><td>0.0 .. 1.6255854</td><td>0.026464066</td><td>0.033715323</td><td>0.040623404</td><td>0 .. 0</td><td>0</td><td>64</td><td>0</td><td>0</td><td>0</td><td>0</td><td>0</td><td>0</td><td>0</td><td>0</td><td>314183275591526400</td><td>0.28510713307224145</td><td>inf</td></tr>\n",
       "</table></div>"
      ],
      "text/plain": [
       "<Table length=36>\n",
       "Group_1 Gal_1   log(M_stellar)   ...      Separation        12 + log(O/H)  \n",
       " int16  int16      float64       ...       float64             float64     \n",
       "------- ----- ------------------ ... -------------------- -----------------\n",
       "     20     3  7.772830640581066 ...   3.9026300575056796               inf\n",
       "     74     1 7.9862205089680245 ...   3.5378337618317413               inf\n",
       "     74     3  8.430544515619072 ...   2.5984556015576437  8.66800057709217\n",
       "     79     1  9.137470795690707 ...  0.26748261239135673               inf\n",
       "     89     4  9.175860806143362 ...  0.41337969300303795 8.770261374235153\n",
       "     90     3    9.4501171871972 ...   0.0657127018616395               inf\n",
       "     90     1  7.755469692828418 ...   2.0793345460198878               inf\n",
       "     97     2  8.210492452829067 ...    1.083766026256064               inf\n",
       "     98     4  8.893872163420314 ...  0.09655102283452369               inf\n",
       "    ...   ...                ... ...                  ...               ...\n",
       "    176     3  9.176339811137433 ...   0.7068088781794418 8.868390814065933\n",
       "    176     1  8.265182184454776 ...    0.705272369746789 9.117207095623016\n",
       "    243     2   8.32482850377416 ...    1.074700569415301 8.700128340482712\n",
       "    243     3  8.960217844407609 ...   0.8216700776727717               inf\n",
       "    243     5  8.800923787407951 ...   0.4752403517717904               inf\n",
       "    248     4  8.562661815301336 ... 0.028813119396736378               inf\n",
       "    256     1  8.072048048681678 ...    2.734230784201718 8.114945635795593\n",
       "    256     5  9.293700252466913 ...   0.3694435726123748  8.73151660990715\n",
       "    273     5 7.6580199449019055 ...    2.083345789101601 8.441351461052895\n",
       "    273     1  9.173247684468317 ...  0.28510713307224145               inf"
      ]
     },
     "execution_count": 6,
     "metadata": {},
     "output_type": "execute_result"
    }
   ],
   "source": [
    "# Crear una nueva columna a partir de tu lista\n",
    "nueva_columna = Column(name='12 + log(O/H)', data=met)\n",
    "    \n",
    "# Agregar la columna a la tabla\n",
    "data.add_column(nueva_columna)\n",
    "    \n",
    "data"
   ]
  },
  {
   "cell_type": "code",
   "execution_count": 10,
   "id": "30f441f1",
   "metadata": {},
   "outputs": [
    {
     "data": {
      "image/png": "[encoded data removed]",
      "text/plain": [
       "<Figure size 1000x600 with 1 Axes>"
      ]
     },
     "metadata": {},
     "output_type": "display_data"
    },
    {
     "data": {
      "text/plain": [
       "13"
      ]
     },
     "execution_count": 10,
     "metadata": {},
     "output_type": "execute_result"
    }
   ],
   "source": [
    "plt.figure(figsize = (10, 6)) \n",
    "plt.scatter(data['log(M_stellar)'][data['12 + log(O/H)'] != np.inf], data['12 + log(O/H)'][data['12 + log(O/H)'] != np.inf])\n",
    "plt.xlabel('$log M_{*}(M_{\\odot})$')\n",
    "plt.ylabel('$12 + log(O/H)$')\n",
    "\n",
    "plt.show()\n",
    "len(data['log(M_stellar)'][data['12 + log(O/H)'] != np.inf])"
   ]
  }
 ],
 "metadata": {
  "kernelspec": {
   "display_name": "Python 3 (ipykernel)",
   "language": "python",
   "name": "python3"
  },
  "language_info": {
   "codemirror_mode": {
    "name": "ipython",
    "version": 3
   },
   "file_extension": ".py",
   "mimetype": "text/x-python",
   "name": "python",
   "nbconvert_exporter": "python",
   "pygments_lexer": "ipython3",
   "version": "3.11.4"
  }
 },
 "nbformat": 4,
 "nbformat_minor": 5
}
