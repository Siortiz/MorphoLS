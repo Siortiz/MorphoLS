{
 "cells": [
  {
   "cell_type": "code",
   "execution_count": 12,
   "id": "733356b7",
   "metadata": {},
   "outputs": [],
   "source": [
    "from astropy.table import Table, vstack, unique, Column\n",
    "import matplotlib.pyplot as plt\n",
    "from astropy.io import fits\n",
    "import pandas as pd\n",
    "import numpy as np"
   ]
  },
  {
   "cell_type": "code",
   "execution_count": 22,
   "id": "26c43036",
   "metadata": {},
   "outputs": [
    {
     "name": "stdout",
     "output_type": "stream",
     "text": [
      "Se ha generado la tabla con las galaxias coincidentes.\n"
     ]
    }
   ],
   "source": [
    "# Supongamos que las tablas están en formato Astropy\n",
    "# Lee tus dos tablas\n",
    "tabla1 = Table.read('sfr_decals.csv', format='ascii')  # Ajusta el formato si no es .fits\n",
    "tabla2 = Table.read('/home/seba/Documents/CG/isolated_sample_dr4.csv', format='ascii')\n",
    "\n",
    "# Columna con las masas estelares\n",
    "masa1 = tabla1['log(M_stellar)']\n",
    "masa2 = tabla2['stellar_mass']\n",
    "\n",
    "# Definir margen de error\n",
    "margen_error = 0.02\n",
    "\n",
    "# Crear una lista para almacenar las coincidencias\n",
    "coincidencias = []\n",
    "\n",
    "# Iterar sobre las masas de la tabla 1 y buscar coincidencias en la tabla 2 con margen de error\n",
    "for masa in masa1:\n",
    "    # Buscar las filas en tabla 2 con masas dentro del margen de error\n",
    "    coincidencia = tabla2[(masa2 >= masa - margen_error) & (masa2 <= masa + margen_error)]\n",
    "    \n",
    "    if len(coincidencia) > 0:\n",
    "        coincidencias.append(coincidencia[:2])\n",
    "\n",
    "# Combinar las filas con coincidencias en una nueva tabla\n",
    "if coincidencias:\n",
    "    tabla_coincidencias = vstack(coincidencias)\n",
    "    # Guardar la tabla resultante\n",
    "    tabla_coincidencias.write('tabla_coincidencias.csv', overwrite=True)\n",
    "    print(\"Se ha generado la tabla con las galaxias coincidentes.\")\n",
    "else:\n",
    "    print(\"No se encontraron coincidencias dentro del margen de error.\")"
   ]
  },
  {
   "cell_type": "code",
   "execution_count": 24,
   "id": "cc8ff617",
   "metadata": {},
   "outputs": [
    {
     "data": {
      "text/html": [
       "<div><i>Table length=837</i>\n",
       "<table id=\"table139865238611408\" class=\"table-striped table-bordered table-condensed\">\n",
       "<thead><tr><th>galaxy_id</th><th>NYU_id</th><th>z_source_id</th><th>ra</th><th>dec</th><th>z</th><th>r</th><th>r_limit</th><th>completeness</th><th>M_r</th><th>stellar_mass</th><th>g-r</th></tr></thead>\n",
       "<thead><tr><th>int64</th><th>int64</th><th>int64</th><th>float64</th><th>float64</th><th>float64</th><th>float64</th><th>float64</th><th>float64</th><th>float64</th><th>float64</th><th>float64</th></tr></thead>\n",
       "<tr><td>8381</td><td>46339</td><td>-1</td><td>50.827048039</td><td>0.939851718</td><td>0.03649</td><td>16.5292015</td><td>17.6762009</td><td>0.9783</td><td>-18.67589</td><td>9.462924</td><td>0.5099239</td></tr>\n",
       "<tr><td>20873</td><td>83054</td><td>-1</td><td>225.494379291</td><td>-0.114305473</td><td>0.040195</td><td>17.2897015</td><td>17.7066994</td><td>0.9275</td><td>-18.1190796</td><td>9.460351</td><td>0.7752819</td></tr>\n",
       "<tr><td>11682</td><td>59859</td><td>-1</td><td>202.212351563</td><td>-0.365463142</td><td>0.021745</td><td>17.5394001</td><td>17.7129993</td><td>0.9643</td><td>-16.5181885</td><td>8.597683</td><td>0.4837341</td></tr>\n",
       "<tr><td>13147</td><td>63296</td><td>-1</td><td>205.532765705</td><td>0.010247091</td><td>0.025179</td><td>17.3973007</td><td>17.7129993</td><td>0.7953</td><td>-16.9666996</td><td>8.5803366</td><td>0.3011742</td></tr>\n",
       "<tr><td>9023</td><td>51819</td><td>-1</td><td>248.685882619</td><td>0.402132206</td><td>0.025652</td><td>16.0889015</td><td>17.6767006</td><td>0.8071</td><td>-18.2963505</td><td>9.4059048</td><td>0.5818729</td></tr>\n",
       "<tr><td>9519</td><td>53945</td><td>-1</td><td>198.051997604</td><td>-1.09513651</td><td>0.040873</td><td>16.6725998</td><td>17.7224998</td><td>0.7904</td><td>-18.8124981</td><td>9.4254274</td><td>0.4123688</td></tr>\n",
       "<tr><td>8601</td><td>50783</td><td>-1</td><td>245.367351214</td><td>-0.45708113</td><td>0.059077</td><td>15.3290997</td><td>17.6604004</td><td>0.8077</td><td>-20.919138</td><td>10.6588011</td><td>0.8123131</td></tr>\n",
       "<tr><td>8815</td><td>51303</td><td>-1</td><td>247.600037192</td><td>-0.084795106</td><td>0.113344</td><td>16.8313999</td><td>17.6658001</td><td>0.8462</td><td>-20.8886185</td><td>10.6740131</td><td>0.8654041</td></tr>\n",
       "<tr><td>11931</td><td>60370</td><td>-1</td><td>215.872440631</td><td>-0.377673685</td><td>0.031813</td><td>17.4654007</td><td>17.7129993</td><td>0.8271</td><td>-17.4676971</td><td>8.7129946</td><td>0.1652603</td></tr>\n",
       "<tr><td>...</td><td>...</td><td>...</td><td>...</td><td>...</td><td>...</td><td>...</td><td>...</td><td>...</td><td>...</td><td>...</td><td>...</td></tr>\n",
       "<tr><td>8863</td><td>51488</td><td>-1</td><td>237.865911303</td><td>0.235595301</td><td>0.087763</td><td>17.3055</td><td>17.6767006</td><td>0.8824</td><td>-19.8455524</td><td>9.9333715</td><td>0.4926624</td></tr>\n",
       "<tr><td>22089</td><td>86529</td><td>-1</td><td>195.875906256</td><td>0.390655256</td><td>0.07949</td><td>17.4204998</td><td>17.7007999</td><td>0.8791</td><td>-19.5009441</td><td>9.9452896</td><td>0.6594887</td></tr>\n",
       "<tr><td>256891</td><td>708096</td><td>-1</td><td>58.000211824</td><td>0.016380795</td><td>0.082929</td><td>17.3206005</td><td>17.7798996</td><td>0.9587</td><td>-19.6831875</td><td>10.3056736</td><td>0.949131</td></tr>\n",
       "<tr><td>8598</td><td>50776</td><td>-1</td><td>244.925607986</td><td>-0.4558338</td><td>0.079005</td><td>16.829401</td><td>17.6604004</td><td>0.7818</td><td>-20.0750446</td><td>10.2919426</td><td>0.7529831</td></tr>\n",
       "<tr><td>22112</td><td>86571</td><td>-1</td><td>197.393578501</td><td>0.314833279</td><td>0.083153</td><td>17.8875999</td><td>17.7007999</td><td>0.927</td><td>-19.1470356</td><td>9.6087093</td><td>0.3307228</td></tr>\n",
       "<tr><td>8821</td><td>51313</td><td>-1</td><td>247.966787392</td><td>-0.090794968</td><td>0.046715</td><td>17.1640015</td><td>17.6658001</td><td>0.8462</td><td>-18.5616894</td><td>9.6000957</td><td>0.6915188</td></tr>\n",
       "<tr><td>256892</td><td>708097</td><td>-1</td><td>58.016658979</td><td>0.036783138</td><td>0.082309</td><td>16.8082008</td><td>17.7798996</td><td>0.9587</td><td>-20.181736</td><td>10.4478168</td><td>0.9307709</td></tr>\n",
       "<tr><td>8497</td><td>50583</td><td>-1</td><td>239.886103793</td><td>-0.423757457</td><td>0.120525</td><td>17.2922001</td><td>17.6602993</td><td>0.9085</td><td>-20.5645924</td><td>10.4464808</td><td>0.7648182</td></tr>\n",
       "<tr><td>17654</td><td>75127</td><td>-1</td><td>216.443400748</td><td>-0.836713199</td><td>0.013755</td><td>17.6613007</td><td>17.7157001</td><td>0.8632</td><td>-15.3465586</td><td>8.1641798</td><td>0.5180769</td></tr>\n",
       "<tr><td>34168</td><td>118469</td><td>-1</td><td>197.275564621</td><td>-2.642948192</td><td>0.012989</td><td>16.9737015</td><td>17.6907997</td><td>0.8247</td><td>-15.9832354</td><td>8.1585703</td><td>0.2841549</td></tr>\n",
       "</table></div>"
      ],
      "text/plain": [
       "<Table length=837>\n",
       "galaxy_id NYU_id z_source_id ...     M_r     stellar_mass    g-r   \n",
       "  int64   int64     int64    ...   float64     float64     float64 \n",
       "--------- ------ ----------- ... ----------- ------------ ---------\n",
       "     8381  46339          -1 ...   -18.67589     9.462924 0.5099239\n",
       "    20873  83054          -1 ... -18.1190796     9.460351 0.7752819\n",
       "    11682  59859          -1 ... -16.5181885     8.597683 0.4837341\n",
       "    13147  63296          -1 ... -16.9666996    8.5803366 0.3011742\n",
       "     9023  51819          -1 ... -18.2963505    9.4059048 0.5818729\n",
       "     9519  53945          -1 ... -18.8124981    9.4254274 0.4123688\n",
       "     8601  50783          -1 ...  -20.919138   10.6588011 0.8123131\n",
       "     8815  51303          -1 ... -20.8886185   10.6740131 0.8654041\n",
       "    11931  60370          -1 ... -17.4676971    8.7129946 0.1652603\n",
       "      ...    ...         ... ...         ...          ...       ...\n",
       "     8863  51488          -1 ... -19.8455524    9.9333715 0.4926624\n",
       "    22089  86529          -1 ... -19.5009441    9.9452896 0.6594887\n",
       "   256891 708096          -1 ... -19.6831875   10.3056736  0.949131\n",
       "     8598  50776          -1 ... -20.0750446   10.2919426 0.7529831\n",
       "    22112  86571          -1 ... -19.1470356    9.6087093 0.3307228\n",
       "     8821  51313          -1 ... -18.5616894    9.6000957 0.6915188\n",
       "   256892 708097          -1 ...  -20.181736   10.4478168 0.9307709\n",
       "     8497  50583          -1 ... -20.5645924   10.4464808 0.7648182\n",
       "    17654  75127          -1 ... -15.3465586    8.1641798 0.5180769\n",
       "    34168 118469          -1 ... -15.9832354    8.1585703 0.2841549"
      ]
     },
     "execution_count": 24,
     "metadata": {},
     "output_type": "execute_result"
    }
   ],
   "source": [
    "coin = Table.read('tabla_coincidencias.csv', format='ascii')\n",
    "coin\n",
    "#plt.hist(coin['stellar_mass'])"
   ]
  },
  {
   "cell_type": "code",
   "execution_count": 23,
   "id": "6036a5ed",
   "metadata": {},
   "outputs": [
    {
     "name": "stdout",
     "output_type": "stream",
     "text": [
      "\n",
      "Primer valor en los arrays de FLUX para los índices 1, 2, 3:\n",
      "0.0\n",
      "0.0\n",
      "0.0\n",
      "\n",
      "Primer valor en los arrays de NAME para los índices 1, 2, 3:\n",
      "HeII\n",
      "HeII\n",
      "HeII\n"
     ]
    }
   ],
   "source": [
    "# Abre la tabla FITS\n",
    "with fits.open('low_mass_galaxies_2.fits') as hdul:\n",
    "    data = Table(hdul[1].data)  # Suponiendo que la tabla está en la extensión 1\n",
    "# Acceder al primer valor dentro de los arrays de FLUX para los índices 1, 2 y 3\n",
    "print(\"\\nPrimer valor en los arrays de FLUX para los índices 1, 2, 3:\")\n",
    "print(data['FLUX'][1][0])  # Primer valor en el array del índice 1\n",
    "print(data['FLUX'][2][0])  # Primer valor en el array del índice 2\n",
    "print(data['FLUX'][3][0])  # Primer valor en el array del índice 3\n",
    "# Acceder al primer valor dentro de los arrays de FLUX para los índices 1, 2 y 3\n",
    "print(\"\\nPrimer valor en los arrays de NAME para los índices 1, 2, 3:\")\n",
    "print(data['NAME'][1][0])  # Primer valor en el array del índice 1\n",
    "print(data['NAME'][2][0])  # Primer valor en el array del índice 2\n",
    "print(data['NAME'][3][0])  # Primer valor en el array del índice 3"
   ]
  },
  {
   "cell_type": "code",
   "execution_count": 6,
   "id": "7515bf7e",
   "metadata": {},
   "outputs": [
    {
     "name": "stdout",
     "output_type": "stream",
     "text": [
      "NAME: HeII, LAMBDA: 3203.14990234375\n",
      "NAME: [NeV], LAMBDA: 3345.81005859375\n",
      "NAME: [NeV], LAMBDA: 3425.81005859375\n",
      "NAME: [OII], LAMBDA: 3726.030029296875\n",
      "NAME: [OII], LAMBDA: 3728.72998046875\n",
      "NAME: [NeIII], LAMBDA: 3868.68994140625\n",
      "NAME: [NeIII], LAMBDA: 3967.39990234375\n",
      "NAME: H5, LAMBDA: 3889.050048828125\n",
      "NAME: He, LAMBDA: 3970.070068359375\n",
      "NAME: Hd, LAMBDA: 4101.72998046875\n",
      "NAME: Hg, LAMBDA: 4340.4599609375\n",
      "NAME: [OIII], LAMBDA: 4363.14990234375\n",
      "NAME: HeII, LAMBDA: 4685.740234375\n",
      "NAME: [ArIV], LAMBDA: 4711.2998046875\n",
      "NAME: [ArIV], LAMBDA: 4740.10009765625\n",
      "NAME: Hb, LAMBDA: 4861.31982421875\n",
      "NAME: [OIII], LAMBDA: 4958.830078125\n",
      "NAME: [OIII], LAMBDA: 5006.77001953125\n",
      "NAME: [NI], LAMBDA: 5197.89990234375\n",
      "NAME: [NI], LAMBDA: 5200.39013671875\n",
      "NAME: HeI, LAMBDA: 5875.60009765625\n",
      "NAME: [OI], LAMBDA: 6300.2001953125\n",
      "NAME: [OI], LAMBDA: 6363.669921875\n",
      "NAME: [NII], LAMBDA: 6547.9599609375\n",
      "NAME: Ha, LAMBDA: 6562.7998046875\n",
      "NAME: [NII], LAMBDA: 6583.33984375\n",
      "NAME: [SII], LAMBDA: 6716.31005859375\n",
      "NAME: [SII], LAMBDA: 6730.68017578125\n"
     ]
    }
   ],
   "source": [
    "for i in range(28):\n",
    "    print(f\"NAME: {data['NAME'][0][i]}, LAMBDA: {data['LAMBDA'][0][i]}\")"
   ]
  },
  {
   "cell_type": "code",
   "execution_count": 24,
   "id": "e524a3c4",
   "metadata": {},
   "outputs": [
    {
     "name": "stdout",
     "output_type": "stream",
     "text": [
      "[inf, 8.441351461052895, inf, inf, inf, 8.916590259075164, 8.83056568813324, inf, inf, 8.114945635795593, 8.73151660990715, inf, inf, 8.700128340482712, inf, inf, 8.770261374235153, inf, inf, inf, inf, inf, 8.579103950619697, inf, 9.117207095623016, 8.868390814065933, inf, inf, 8.66800057709217, inf, inf, inf, inf, inf, 8.710251021146775, 9.010301740646362]\n"
     ]
    },
    {
     "name": "stderr",
     "output_type": "stream",
     "text": [
      "/tmp/ipykernel_12553/148490185.py:7: RuntimeWarning: divide by zero encountered in log10\n",
      "  o3n2 = np.log10((O3/Hb)*(Ha/N2))\n"
     ]
    }
   ],
   "source": [
    "met = []\n",
    "for i in range(len(data)):\n",
    "    O3 = data['FLUX'][i][18] \n",
    "    N2 = data['FLUX'][i][26]\n",
    "    Ha = data['FLUX'][i][25]\n",
    "    Hb = data['FLUX'][i][16]\n",
    "    o3n2 = np.log10((O3/Hb)*(Ha/N2))\n",
    "    met.append(8.533-0.214*o3n2)\n",
    "print(met)"
   ]
  },
  {
   "cell_type": "code",
   "execution_count": 25,
   "id": "a45bb836",
   "metadata": {},
   "outputs": [
    {
     "data": {
      "text/html": [
       "<div><i>Table length=36</i>\n",
       "<table id=\"table136749666117616\" class=\"table-striped table-bordered table-condensed\">\n",
       "<thead><tr><th>PLATE</th><th>MJD</th><th>FIBERID</th><th>RA</th><th>DEC</th><th>Z</th><th>Z_ERR</th><th>ZNUM</th><th>VEL_STARS</th><th>REDSHIFT</th><th>SIGMA_STARS</th><th>SIGMA_STARS_ERR</th><th>CHISQ</th><th>FILENAME</th><th>BPT</th><th>NAME [28]</th><th>LAMBDA [28]</th><th>KIND [28]</th><th>A [28]</th><th>V [28]</th><th>V_ERR [28]</th><th>SIG [28]</th><th>SIG_ERR [28]</th><th>AMPLITUDE [28]</th><th>AMPLITUDE_ERR [28]</th><th>FLUX [28]</th><th>FLUX_ERR [28]</th><th>EW [28]</th><th>EW_ERR [28]</th><th>FLUX_CONT [28]</th><th>FLUX_CONT_ERR [28]</th><th>AON [28]</th><th>EBMV</th><th>EBMV_ERR</th><th>EBMV_SFD</th><th>FIT_WARNING [28]</th><th>ERROR_WARNING</th><th>LEGACY_TARGET1</th><th>LEGACY_TARGET2</th><th>SPECIAL_TARGET1</th><th>SPECIAL_TARGET2</th><th>BOSS_TARGET1</th><th>BOSS_TARGET2</th><th>ANCILLARY_TARGET1</th><th>ANCILLARY_TARGET2</th><th>SPECPRIMARY</th><th>SPECOBJID</th><th>Group</th><th>Gal</th><th>log(M_stellar)</th><th>ra</th><th>dec</th><th>zmemb</th><th>12 + log(O/H)</th></tr></thead>\n",
       "<thead><tr><th>int32</th><th>int32</th><th>int32</th><th>float64</th><th>float64</th><th>float32</th><th>float32</th><th>int32</th><th>float32</th><th>float32</th><th>float32</th><th>float32</th><th>float32</th><th>str30</th><th>str13</th><th>str7</th><th>float32</th><th>str3</th><th>float32</th><th>float32</th><th>float32</th><th>float32</th><th>float32</th><th>float32</th><th>float32</th><th>float32</th><th>float32</th><th>float32</th><th>float32</th><th>float32</th><th>float32</th><th>float32</th><th>float32</th><th>float32</th><th>float32</th><th>int16</th><th>int32</th><th>int32</th><th>int32</th><th>int64</th><th>int64</th><th>int64</th><th>int64</th><th>int64</th><th>int64</th><th>uint8</th><th>str22</th><th>int16</th><th>int16</th><th>float64</th><th>float64</th><th>float64</th><th>float64</th><th>float64</th></tr></thead>\n",
       "<tr><td>278</td><td>51900</td><td>87</td><td>167.51669</td><td>-1.004932</td><td>0.10983154</td><td>5.241182e-06</td><td>1</td><td>31292.236</td><td>0.110021815</td><td>60.77303</td><td>17.663563</td><td>0.8074952</td><td>emlinekin-0278-51900-0087.fits</td><td>Star Forming</td><td>HeII .. [SII]</td><td>3203.15 .. 6730.68</td><td>l .. l</td><td>1.0 .. 1.0</td><td>31292.236 .. 31324.732</td><td>-0.0 .. 2.8140624</td><td>10.0 .. 70.23535</td><td>-0.0 .. 2.9334517</td><td>0.0 .. 36.013668</td><td>-0.0 .. 1.1107897</td><td>0.0 .. 210.0459</td><td>0.0 .. 9.56908</td><td>0.0 .. 11.45418</td><td>nan .. 0.5315096</td><td>0.0 .. 14.027466</td><td>0.0 .. 0.032545533</td><td>0.0 .. 21.292032</td><td>0.09032694</td><td>0.010048654</td><td>0.037194945</td><td>0 .. 0</td><td>0</td><td>68</td><td>0</td><td>0</td><td>0</td><td>0</td><td>0</td><td>0</td><td>0</td><td>1</td><td>313024120356890624</td><td>97</td><td>2</td><td>8.210492452829067</td><td>167.5168502117463</td><td>-1.004677110111772</td><td>0.109852</td><td>inf</td></tr>\n",
       "<tr><td>279</td><td>51608</td><td>201</td><td>168.64726</td><td>-0.86755325</td><td>0.06926965</td><td>7.2431494e-06</td><td>1</td><td>20094.793</td><td>0.069326505</td><td>64.84555</td><td>18.412077</td><td>0.93748444</td><td>emlinekin-0279-51608-0201.fits</td><td>Star Forming</td><td>HeII .. [SII]</td><td>3203.15 .. 6730.68</td><td>l .. l</td><td>1.0 .. 1.0</td><td>20094.793 .. 20172.326</td><td>0.0 .. 5.6113625</td><td>10.0 .. 75.261734</td><td>0.0 .. 6.117278</td><td>0.0 .. 14.602487</td><td>0.0 .. 0.7056681</td><td>0.0 .. 85.430885</td><td>0.0 .. 5.1677322</td><td>0.0 .. 6.336609</td><td>nan .. nan</td><td>0.0 .. 13.482115</td><td>0.0 .. 0.037209123</td><td>0.0 .. 7.190771</td><td>0.0</td><td>0.0</td><td>0.04092294</td><td>0 .. 0</td><td>0</td><td>68</td><td>0</td><td>0</td><td>0</td><td>0</td><td>0</td><td>0</td><td>0</td><td>0</td><td>314181351446177792</td><td>273</td><td>5</td><td>7.6580199449019055</td><td>168.6477687319171</td><td>-0.8678292086364374</td><td>0.069293</td><td>8.441351461052895</td></tr>\n",
       "<tr><td>279</td><td>51608</td><td>208</td><td>168.60381</td><td>-0.83079474</td><td>0.027816404</td><td>1.4682903e-05</td><td>1</td><td>8294.209</td><td>0.028052777</td><td>198.72237</td><td>87.82221</td><td>1.013172</td><td>emlinekin-0279-51608-0208.fits</td><td>Star Forming</td><td>HeII .. [SII]</td><td>3203.15 .. 6730.68</td><td>l .. l</td><td>1.0 .. 1.0</td><td>8294.209 .. 8301.995</td><td>0.0 .. 17.684435</td><td>10.0 .. 7.953576</td><td>0.0 .. 40.52651</td><td>0.0 .. 3.2586787</td><td>0.0 .. 0.73129356</td><td>0.0 .. 11.691584</td><td>0.0 .. 4.654078</td><td>0.0 .. 2.6804953</td><td>nan .. 1.1127791</td><td>0.0 .. 4.032402</td><td>0.0 .. 0.011354347</td><td>0.0 .. 1.6255854</td><td>0.026464066</td><td>0.033715323</td><td>0.040623404</td><td>0 .. 0</td><td>0</td><td>64</td><td>0</td><td>0</td><td>0</td><td>0</td><td>0</td><td>0</td><td>0</td><td>0</td><td>314183275591526400</td><td>273</td><td>1</td><td>9.173247684468317</td><td>168.6037850872668</td><td>-0.8308699168587196</td><td>0.027858</td><td>inf</td></tr>\n",
       "<tr><td>281</td><td>51614</td><td>165</td><td>171.96017</td><td>-0.45112457</td><td>0.062413704</td><td>7.085254e-06</td><td>1</td><td>18174.562</td><td>0.062499143</td><td>82.35544</td><td>20.017368</td><td>1.0571268</td><td>emlinekin-0281-51614-0165.fits</td><td>Star Forming</td><td>HeII .. [SII]</td><td>3203.15 .. 6730.68</td><td>l .. l</td><td>1.0 .. 1.0</td><td>18174.562 .. 18241.129</td><td>-0.0 .. 2.3440566</td><td>10.0 .. 56.095398</td><td>-0.0 .. 2.686761</td><td>0.0 .. 28.677376</td><td>-0.0 .. 1.1088408</td><td>0.0 .. 142.76645</td><td>0.0 .. 8.839946</td><td>0.0 .. 12.607003</td><td>nan .. 0.8071337</td><td>0.0 .. 9.137747</td><td>0.0 .. 0.022317003</td><td>0.0 .. 16.376417</td><td>0.0723224</td><td>0.014423833</td><td>0.03174845</td><td>0 .. 0</td><td>0</td><td>4</td><td>0</td><td>0</td><td>0</td><td>0</td><td>0</td><td>0</td><td>0</td><td>1</td><td>316423255755876352</td><td>104</td><td>2</td><td>9.118780652056506</td><td>171.9601366068491</td><td>-0.4511256666447173</td><td>0.062384</td><td>inf</td></tr>\n",
       "<tr><td>394</td><td>51812</td><td>128</td><td>13.045936</td><td>-1.1293047</td><td>0.10479305</td><td>7.582706e-06</td><td>1</td><td>29925.217</td><td>0.10497176</td><td>57.6708</td><td>19.925512</td><td>0.97096354</td><td>emlinekin-0394-51812-0128.fits</td><td>Star Forming</td><td>HeII .. [SII]</td><td>3203.15 .. 6730.68</td><td>l .. l</td><td>1.0 .. 1.0</td><td>29925.217 .. 29966.56</td><td>-0.0 .. 10.107811</td><td>10.0 .. 42.681717</td><td>-0.0 .. 18.63259</td><td>0.0 .. 7.321438</td><td>-0.0 .. 0.5315187</td><td>0.0 .. 34.086617</td><td>0.0 .. 5.7318726</td><td>0.0 .. 3.9874082</td><td>nan .. 0.67156243</td><td>0.0 .. 6.452994</td><td>0.0 .. 0.015923684</td><td>0.0 .. 4.428616</td><td>0.09479862</td><td>0.011441072</td><td>0.05147986</td><td>0 .. 0</td><td>0</td><td>64</td><td>0</td><td>0</td><td>0</td><td>0</td><td>0</td><td>0</td><td>0</td><td>0</td><td>443639778068424704</td><td>20</td><td>3</td><td>7.772830640581066</td><td>13.04660065707238</td><td>-1.128448197229796</td><td>0.104819</td><td>inf</td></tr>\n",
       "<tr><td>592</td><td>52025</td><td>270</td><td>230.94154</td><td>2.6702744</td><td>0.020882811</td><td>4.5076767e-06</td><td>1</td><td>6254.6772</td><td>0.021082519</td><td>53.548935</td><td>11.106845</td><td>1.2816491</td><td>emlinekin-0592-52025-0270.fits</td><td>Star Forming</td><td>HeII .. [SII]</td><td>3203.15 .. 6730.68</td><td>l .. l</td><td>1.0 .. 1.0</td><td>6254.6772 .. 6268.5767</td><td>-0.0 .. 1.9218298</td><td>10.0 .. 17.928082</td><td>-0.0 .. 3.0676935</td><td>0.0 .. 48.526314</td><td>-0.0 .. 1.5919744</td><td>0.0 .. 178.63744</td><td>0.0 .. 6.1951365</td><td>0.0 .. 6.7240186</td><td>nan .. 3.7082138</td><td>0.0 .. 26.467916</td><td>0.0 .. 0.06737199</td><td>0.0 .. 20.432238</td><td>0.001260419</td><td>0.006963212</td><td>0.045394383</td><td>0 .. 0</td><td>0</td><td>68</td><td>0</td><td>0</td><td>0</td><td>0</td><td>0</td><td>0</td><td>0</td><td>1</td><td>666606995859597312</td><td>171</td><td>2</td><td>9.40619429446414</td><td>230.9415084439488</td><td>2.67026416322864</td><td>0.020865</td><td>8.916590259075164</td></tr>\n",
       "<tr><td>...</td><td>...</td><td>...</td><td>...</td><td>...</td><td>...</td><td>...</td><td>...</td><td>...</td><td>...</td><td>...</td><td>...</td><td>...</td><td>...</td><td>...</td><td>...</td><td>...</td><td>...</td><td>...</td><td>...</td><td>...</td><td>...</td><td>...</td><td>...</td><td>...</td><td>...</td><td>...</td><td>...</td><td>...</td><td>...</td><td>...</td><td>...</td><td>...</td><td>...</td><td>...</td><td>...</td><td>...</td><td>...</td><td>...</td><td>...</td><td>...</td><td>...</td><td>...</td><td>...</td><td>...</td><td>...</td><td>...</td><td>...</td><td>...</td><td>...</td><td>...</td><td>...</td><td>...</td><td>...</td></tr>\n",
       "<tr><td>2352</td><td>53770</td><td>14</td><td>160.09854</td><td>24.218287</td><td>0.11115974</td><td>8.401248e-06</td><td>1</td><td>31672.775</td><td>0.1114317</td><td>61.696705</td><td>11.752376</td><td>0.9244844</td><td>emlinekin-2352-53770-0014.fits</td><td>Star Forming</td><td>HeII .. [SII]</td><td>3203.15 .. 6730.68</td><td>l .. l</td><td>1.0 .. 1.0</td><td>31672.775 .. 31691.676</td><td>-0.0 .. 5.9338236</td><td>10.0 .. 66.50477</td><td>-0.0 .. 7.0648217</td><td>0.0 .. 14.210815</td><td>-0.0 .. 0.8631307</td><td>0.0 .. 80.51934</td><td>0.0 .. 8.039815</td><td>0.0 .. 4.7043004</td><td>nan .. 0.48051545</td><td>0.0 .. 14.747173</td><td>0.0 .. 0.041189164</td><td>0.0 .. 8.991081</td><td>0.050217185</td><td>0.012441217</td><td>0.022868423</td><td>0 .. 0</td><td>0</td><td>64</td><td>0</td><td>0</td><td>0</td><td>0</td><td>0</td><td>0</td><td>0</td><td>1</td><td>2648120492434679808</td><td>90</td><td>1</td><td>7.755469692828418</td><td>160.0979346994472</td><td>24.218117062578</td><td>0.111183</td><td>inf</td></tr>\n",
       "<tr><td>2477</td><td>54058</td><td>376</td><td>160.10548</td><td>24.228927</td><td>0.043454923</td><td>9.076785e-06</td><td>1</td><td>12816.169</td><td>0.043677088</td><td>38.257687</td><td>10.116678</td><td>1.0245626</td><td>emlinekin-2477-54058-0376.fits</td><td>Star Forming</td><td>HeII .. [SII]</td><td>3203.15 .. 6730.68</td><td>l .. l</td><td>1.0 .. 1.0</td><td>12816.169 .. 12851.251</td><td>-0.0 .. 5.8411446</td><td>10.0 .. 54.136494</td><td>-0.0 .. 7.260457</td><td>0.0 .. 8.885359</td><td>-0.0 .. 0.58310825</td><td>0.0 .. 42.764046</td><td>0.0 .. 4.264743</td><td>0.0 .. 3.3043892</td><td>nan .. inf</td><td>0.0 .. 12.941589</td><td>0.0 .. 0.048810843</td><td>0.0 .. 6.144587</td><td>0.0</td><td>0.01040091</td><td>0.022847604</td><td>0 .. 0</td><td>0</td><td>64</td><td>0</td><td>0</td><td>0</td><td>0</td><td>0</td><td>0</td><td>0</td><td>1</td><td>2788957491424159744</td><td>90</td><td>3</td><td>9.4501171871972</td><td>160.105463817595</td><td>24.22891625645232</td><td>0.04348</td><td>inf</td></tr>\n",
       "<tr><td>2504</td><td>54179</td><td>118</td><td>174.1678</td><td>21.700181</td><td>0.06316361</td><td>9.376892e-06</td><td>1</td><td>18446.846</td><td>0.06346458</td><td>56.975674</td><td>20.756</td><td>0.88483804</td><td>emlinekin-2504-54179-0118.fits</td><td>Star Forming</td><td>HeII .. [SII]</td><td>3203.15 .. 6730.68</td><td>l .. l</td><td>1.0 .. 1.0</td><td>18446.846 .. 18454.668</td><td>-0.0 .. 5.56531</td><td>10.0 .. 34.8926</td><td>-0.0 .. 7.7093754</td><td>0.0 .. 10.687269</td><td>-0.0 .. 0.7604408</td><td>0.0 .. 45.227562</td><td>0.0 .. 4.4557486</td><td>0.0 .. 5.296673</td><td>nan .. 0.5327927</td><td>0.0 .. 6.658828</td><td>0.0 .. 0.020237131</td><td>0.0 .. 5.260082</td><td>0.083831154</td><td>0.021586945</td><td>0.02613628</td><td>0 .. 0</td><td>0</td><td>64</td><td>0</td><td>0</td><td>0</td><td>0</td><td>0</td><td>0</td><td>0</td><td>1</td><td>2819285872438962176</td><td>107</td><td>3</td><td>7.540785302068324</td><td>174.1685202200961</td><td>21.69989212707423</td><td>0.063183</td><td>inf</td></tr>\n",
       "<tr><td>2514</td><td>53882</td><td>549</td><td>179.06</td><td>25.354126</td><td>0.032265667</td><td>6.665445e-06</td><td>1</td><td>9594.322</td><td>0.032520827</td><td>44.05634</td><td>15.0211</td><td>0.9990596</td><td>emlinekin-2514-53882-0549.fits</td><td>Star Forming</td><td>HeII .. [SII]</td><td>3203.15 .. 6730.68</td><td>l .. l</td><td>1.0 .. 1.0</td><td>9594.322 .. 9606.226</td><td>-0.0 .. 4.850922</td><td>10.0 .. 38.31768</td><td>-0.0 .. 5.8920856</td><td>0.0 .. 15.1139</td><td>-0.0 .. 0.7309988</td><td>0.0 .. 63.63864</td><td>0.0 .. 5.006915</td><td>0.0 .. 4.2122645</td><td>nan .. 0.33292928</td><td>0.0 .. 10.6184025</td><td>0.0 .. 0.034489624</td><td>0.0 .. 8.962533</td><td>0.11887173</td><td>0.0115151685</td><td>0.017292572</td><td>0 .. 0</td><td>0</td><td>64</td><td>0</td><td>0</td><td>0</td><td>0</td><td>0</td><td>0</td><td>0</td><td>1</td><td>2830663338902448128</td><td>112</td><td>2</td><td>9.39327756669967</td><td>179.0601589568412</td><td>25.35415458397431</td><td>0.032261</td><td>inf</td></tr>\n",
       "<tr><td>2579</td><td>54068</td><td>458</td><td>143.0165</td><td>16.013753</td><td>0.04032821</td><td>6.198394e-06</td><td>1</td><td>11907.62</td><td>0.040518917</td><td>37.726185</td><td>25.627554</td><td>0.9239217</td><td>emlinekin-2579-54068-0458.fits</td><td>Star Forming</td><td>HeII .. [SII]</td><td>3203.15 .. 6730.68</td><td>l .. l</td><td>1.0 .. 1.0</td><td>11907.62 .. 11944.591</td><td>-0.0 .. 7.032623</td><td>10.0 .. 29.539167</td><td>-0.0 .. 10.131913</td><td>0.0 .. 10.191402</td><td>-0.0 .. 0.87438935</td><td>0.0 .. 40.720844</td><td>0.0 .. 5.7624536</td><td>0.0 .. 5.3685527</td><td>nan .. 0.76537234</td><td>0.0 .. 5.180303</td><td>0.0 .. 0.014750721</td><td>0.0 .. 4.3860826</td><td>0.12854184</td><td>0.032134943</td><td>0.039786033</td><td>0 .. 0</td><td>0</td><td>64</td><td>0</td><td>0</td><td>0</td><td>0</td><td>0</td><td>0</td><td>0</td><td>1</td><td>2903821822078248960</td><td>79</td><td>1</td><td>9.137470795690707</td><td>143.0164322817605</td><td>16.01371716945271</td><td>0.040354</td><td>inf</td></tr>\n",
       "<tr><td>2600</td><td>54243</td><td>456</td><td>190.35147</td><td>18.312984</td><td>0.07091139</td><td>9.885827e-06</td><td>1</td><td>20626.479</td><td>0.071224645</td><td>93.24737</td><td>9.437837</td><td>1.0145634</td><td>emlinekin-2600-54243-0456.fits</td><td>Composite</td><td>HeII .. [SII]</td><td>3203.15 .. 6730.68</td><td>l .. l</td><td>1.0 .. 1.0</td><td>20626.479 .. 20625.473</td><td>-0.0 .. 7.9354568</td><td>10.0 .. 100.972374</td><td>-0.0 .. 8.943287</td><td>0.0 .. 20.209446</td><td>-0.0 .. 0.5725106</td><td>0.0 .. 144.03867</td><td>0.0 .. 13.742122</td><td>0.0 .. 3.040136</td><td>nan .. 0.29012105</td><td>0.0 .. 22.113451</td><td>0.0 .. 0.03912779</td><td>0.0 .. 6.7975106</td><td>0.256867</td><td>0.0068444195</td><td>0.021664314</td><td>0 .. 0</td><td>0</td><td>64</td><td>0</td><td>0</td><td>0</td><td>0</td><td>0</td><td>0</td><td>0</td><td>1</td><td>2927465173302142976</td><td>122</td><td>4</td><td>8.633865356634777</td><td>190.3524647842002</td><td>18.31344056490991</td><td>0.070976</td><td>8.710251021146775</td></tr>\n",
       "<tr><td>2785</td><td>54537</td><td>574</td><td>213.22591</td><td>23.337521</td><td>0.05968505</td><td>5.184692e-06</td><td>1</td><td>17452.26</td><td>0.0599423</td><td>56.81231</td><td>26.34563</td><td>0.8921096</td><td>emlinekin-2785-54537-0574.fits</td><td>Star Forming</td><td>HeII .. [SII]</td><td>3203.15 .. 6730.68</td><td>l .. l</td><td>1.0 .. 1.0</td><td>17452.26 .. 17472.902</td><td>-0.0 .. 2.8663146</td><td>10.0 .. 55.832016</td><td>-0.0 .. 3.1766698</td><td>0.0 .. 23.496937</td><td>-0.0 .. 1.3813498</td><td>0.0 .. 116.42848</td><td>0.0 .. 9.422256</td><td>0.0 .. 13.565624</td><td>nan .. 1.1435097</td><td>0.0 .. 6.866471</td><td>0.0 .. 0.01822428</td><td>0.0 .. 11.951316</td><td>0.07520267</td><td>0.02203048</td><td>0.020411465</td><td>0 .. 0</td><td>0</td><td>2</td><td>0</td><td>0</td><td>0</td><td>0</td><td>0</td><td>0</td><td>0</td><td>1</td><td>3135789096593549312</td><td>155</td><td>2</td><td>7.936244906288724</td><td>213.2258035175576</td><td>23.3377822835228</td><td>0.059665</td><td>9.010301740646362</td></tr>\n",
       "</table></div>"
      ],
      "text/plain": [
       "<Table length=36>\n",
       "PLATE  MJD  FIBERID ...         dec          zmemb     12 + log(O/H)  \n",
       "int32 int32  int32  ...       float64       float64       float64     \n",
       "----- ----- ------- ... ------------------- -------- -----------------\n",
       "  278 51900      87 ...  -1.004677110111772 0.109852               inf\n",
       "  279 51608     201 ... -0.8678292086364374 0.069293 8.441351461052895\n",
       "  279 51608     208 ... -0.8308699168587196 0.027858               inf\n",
       "  281 51614     165 ... -0.4511256666447173 0.062384               inf\n",
       "  394 51812     128 ...  -1.128448197229796 0.104819               inf\n",
       "  592 52025     270 ...    2.67026416322864 0.020865 8.916590259075164\n",
       "  ...   ...     ... ...                 ...      ...               ...\n",
       " 2352 53770      14 ...     24.218117062578 0.111183               inf\n",
       " 2477 54058     376 ...   24.22891625645232  0.04348               inf\n",
       " 2504 54179     118 ...   21.69989212707423 0.063183               inf\n",
       " 2514 53882     549 ...   25.35415458397431 0.032261               inf\n",
       " 2579 54068     458 ...   16.01371716945271 0.040354               inf\n",
       " 2600 54243     456 ...   18.31344056490991 0.070976 8.710251021146775\n",
       " 2785 54537     574 ...    23.3377822835228 0.059665 9.010301740646362"
      ]
     },
     "execution_count": 25,
     "metadata": {},
     "output_type": "execute_result"
    }
   ],
   "source": [
    "# Crear una nueva columna a partir de tu lista\n",
    "nueva_columna = Column(name='12 + log(O/H)', data=met)\n",
    "    \n",
    "# Agregar la columna a la tabla\n",
    "data.add_column(nueva_columna)\n",
    "    \n",
    "data"
   ]
  },
  {
   "cell_type": "code",
   "execution_count": 30,
   "id": "30f441f1",
   "metadata": {},
   "outputs": [
    {
     "data": {
      "image/png": "[encoded data removed]",
      "text/plain": [
       "<Figure size 720x576 with 1 Axes>"
      ]
     },
     "metadata": {
      "needs_background": "light"
     },
     "output_type": "display_data"
    }
   ],
   "source": [
    "plt.figure(figsize = (10, 8)) \n",
    "plt.scatter(data['log(M_stellar)'][data['12 + log(O/H)'] != np.inf], data['12 + log(O/H)'][data['12 + log(O/H)'] != np.inf])\n",
    "plt.show()"
   ]
  }
 ],
 "metadata": {
  "kernelspec": {
   "display_name": "Python 3 (ipykernel)",
   "language": "python",
   "name": "python3"
  },
  "language_info": {
   "codemirror_mode": {
    "name": "ipython",
    "version": 3
   },
   "file_extension": ".py",
   "mimetype": "text/x-python",
   "name": "python",
   "nbconvert_exporter": "python",
   "pygments_lexer": "ipython3",
   "version": "3.9.12"
  }
 },
 "nbformat": 4,
 "nbformat_minor": 5
}
