{
 "cells": [
  {
   "cell_type": "code",
   "execution_count": 11,
   "id": "733356b7",
   "metadata": {},
   "outputs": [],
   "source": [
    "from astropy.table import Table, vstack, unique\n",
    "import matplotlib.pyplot as plt"
   ]
  },
  {
   "cell_type": "code",
   "execution_count": 22,
   "id": "26c43036",
   "metadata": {},
   "outputs": [
    {
     "name": "stdout",
     "output_type": "stream",
     "text": [
      "Se ha generado la tabla con las galaxias coincidentes.\n"
     ]
    }
   ],
   "source": [
    "# Supongamos que las tablas están en formato Astropy\n",
    "# Lee tus dos tablas\n",
    "tabla1 = Table.read('sfr_decals.csv', format='ascii')  # Ajusta el formato si no es .fits\n",
    "tabla2 = Table.read('/home/seba/Documents/CG/isolated_sample_dr4.csv', format='ascii')\n",
    "\n",
    "# Columna con las masas estelares\n",
    "masa1 = tabla1['log(M_stellar)']\n",
    "masa2 = tabla2['stellar_mass']\n",
    "\n",
    "# Definir margen de error\n",
    "margen_error = 0.02\n",
    "\n",
    "# Crear una lista para almacenar las coincidencias\n",
    "coincidencias = []\n",
    "\n",
    "# Iterar sobre las masas de la tabla 1 y buscar coincidencias en la tabla 2 con margen de error\n",
    "for masa in masa1:\n",
    "    # Buscar las filas en tabla 2 con masas dentro del margen de error\n",
    "    coincidencia = tabla2[(masa2 >= masa - margen_error) & (masa2 <= masa + margen_error)]\n",
    "    \n",
    "    if len(coincidencia) > 0:\n",
    "        coincidencias.append(coincidencia[:2])\n",
    "\n",
    "# Combinar las filas con coincidencias en una nueva tabla\n",
    "if coincidencias:\n",
    "    tabla_coincidencias = vstack(coincidencias)\n",
    "    # Guardar la tabla resultante\n",
    "    tabla_coincidencias.write('tabla_coincidencias.csv', overwrite=True)\n",
    "    print(\"Se ha generado la tabla con las galaxias coincidentes.\")\n",
    "else:\n",
    "    print(\"No se encontraron coincidencias dentro del margen de error.\")"
   ]
  },
  {
   "cell_type": "code",
   "execution_count": 24,
   "id": "cc8ff617",
   "metadata": {},
   "outputs": [
    {
     "data": {
      "text/html": [
       "<div><i>Table length=837</i>\n",
       "<table id=\"table139865238611408\" class=\"table-striped table-bordered table-condensed\">\n",
       "<thead><tr><th>galaxy_id</th><th>NYU_id</th><th>z_source_id</th><th>ra</th><th>dec</th><th>z</th><th>r</th><th>r_limit</th><th>completeness</th><th>M_r</th><th>stellar_mass</th><th>g-r</th></tr></thead>\n",
       "<thead><tr><th>int64</th><th>int64</th><th>int64</th><th>float64</th><th>float64</th><th>float64</th><th>float64</th><th>float64</th><th>float64</th><th>float64</th><th>float64</th><th>float64</th></tr></thead>\n",
       "<tr><td>8381</td><td>46339</td><td>-1</td><td>50.827048039</td><td>0.939851718</td><td>0.03649</td><td>16.5292015</td><td>17.6762009</td><td>0.9783</td><td>-18.67589</td><td>9.462924</td><td>0.5099239</td></tr>\n",
       "<tr><td>20873</td><td>83054</td><td>-1</td><td>225.494379291</td><td>-0.114305473</td><td>0.040195</td><td>17.2897015</td><td>17.7066994</td><td>0.9275</td><td>-18.1190796</td><td>9.460351</td><td>0.7752819</td></tr>\n",
       "<tr><td>11682</td><td>59859</td><td>-1</td><td>202.212351563</td><td>-0.365463142</td><td>0.021745</td><td>17.5394001</td><td>17.7129993</td><td>0.9643</td><td>-16.5181885</td><td>8.597683</td><td>0.4837341</td></tr>\n",
       "<tr><td>13147</td><td>63296</td><td>-1</td><td>205.532765705</td><td>0.010247091</td><td>0.025179</td><td>17.3973007</td><td>17.7129993</td><td>0.7953</td><td>-16.9666996</td><td>8.5803366</td><td>0.3011742</td></tr>\n",
       "<tr><td>9023</td><td>51819</td><td>-1</td><td>248.685882619</td><td>0.402132206</td><td>0.025652</td><td>16.0889015</td><td>17.6767006</td><td>0.8071</td><td>-18.2963505</td><td>9.4059048</td><td>0.5818729</td></tr>\n",
       "<tr><td>9519</td><td>53945</td><td>-1</td><td>198.051997604</td><td>-1.09513651</td><td>0.040873</td><td>16.6725998</td><td>17.7224998</td><td>0.7904</td><td>-18.8124981</td><td>9.4254274</td><td>0.4123688</td></tr>\n",
       "<tr><td>8601</td><td>50783</td><td>-1</td><td>245.367351214</td><td>-0.45708113</td><td>0.059077</td><td>15.3290997</td><td>17.6604004</td><td>0.8077</td><td>-20.919138</td><td>10.6588011</td><td>0.8123131</td></tr>\n",
       "<tr><td>8815</td><td>51303</td><td>-1</td><td>247.600037192</td><td>-0.084795106</td><td>0.113344</td><td>16.8313999</td><td>17.6658001</td><td>0.8462</td><td>-20.8886185</td><td>10.6740131</td><td>0.8654041</td></tr>\n",
       "<tr><td>11931</td><td>60370</td><td>-1</td><td>215.872440631</td><td>-0.377673685</td><td>0.031813</td><td>17.4654007</td><td>17.7129993</td><td>0.8271</td><td>-17.4676971</td><td>8.7129946</td><td>0.1652603</td></tr>\n",
       "<tr><td>...</td><td>...</td><td>...</td><td>...</td><td>...</td><td>...</td><td>...</td><td>...</td><td>...</td><td>...</td><td>...</td><td>...</td></tr>\n",
       "<tr><td>8863</td><td>51488</td><td>-1</td><td>237.865911303</td><td>0.235595301</td><td>0.087763</td><td>17.3055</td><td>17.6767006</td><td>0.8824</td><td>-19.8455524</td><td>9.9333715</td><td>0.4926624</td></tr>\n",
       "<tr><td>22089</td><td>86529</td><td>-1</td><td>195.875906256</td><td>0.390655256</td><td>0.07949</td><td>17.4204998</td><td>17.7007999</td><td>0.8791</td><td>-19.5009441</td><td>9.9452896</td><td>0.6594887</td></tr>\n",
       "<tr><td>256891</td><td>708096</td><td>-1</td><td>58.000211824</td><td>0.016380795</td><td>0.082929</td><td>17.3206005</td><td>17.7798996</td><td>0.9587</td><td>-19.6831875</td><td>10.3056736</td><td>0.949131</td></tr>\n",
       "<tr><td>8598</td><td>50776</td><td>-1</td><td>244.925607986</td><td>-0.4558338</td><td>0.079005</td><td>16.829401</td><td>17.6604004</td><td>0.7818</td><td>-20.0750446</td><td>10.2919426</td><td>0.7529831</td></tr>\n",
       "<tr><td>22112</td><td>86571</td><td>-1</td><td>197.393578501</td><td>0.314833279</td><td>0.083153</td><td>17.8875999</td><td>17.7007999</td><td>0.927</td><td>-19.1470356</td><td>9.6087093</td><td>0.3307228</td></tr>\n",
       "<tr><td>8821</td><td>51313</td><td>-1</td><td>247.966787392</td><td>-0.090794968</td><td>0.046715</td><td>17.1640015</td><td>17.6658001</td><td>0.8462</td><td>-18.5616894</td><td>9.6000957</td><td>0.6915188</td></tr>\n",
       "<tr><td>256892</td><td>708097</td><td>-1</td><td>58.016658979</td><td>0.036783138</td><td>0.082309</td><td>16.8082008</td><td>17.7798996</td><td>0.9587</td><td>-20.181736</td><td>10.4478168</td><td>0.9307709</td></tr>\n",
       "<tr><td>8497</td><td>50583</td><td>-1</td><td>239.886103793</td><td>-0.423757457</td><td>0.120525</td><td>17.2922001</td><td>17.6602993</td><td>0.9085</td><td>-20.5645924</td><td>10.4464808</td><td>0.7648182</td></tr>\n",
       "<tr><td>17654</td><td>75127</td><td>-1</td><td>216.443400748</td><td>-0.836713199</td><td>0.013755</td><td>17.6613007</td><td>17.7157001</td><td>0.8632</td><td>-15.3465586</td><td>8.1641798</td><td>0.5180769</td></tr>\n",
       "<tr><td>34168</td><td>118469</td><td>-1</td><td>197.275564621</td><td>-2.642948192</td><td>0.012989</td><td>16.9737015</td><td>17.6907997</td><td>0.8247</td><td>-15.9832354</td><td>8.1585703</td><td>0.2841549</td></tr>\n",
       "</table></div>"
      ],
      "text/plain": [
       "<Table length=837>\n",
       "galaxy_id NYU_id z_source_id ...     M_r     stellar_mass    g-r   \n",
       "  int64   int64     int64    ...   float64     float64     float64 \n",
       "--------- ------ ----------- ... ----------- ------------ ---------\n",
       "     8381  46339          -1 ...   -18.67589     9.462924 0.5099239\n",
       "    20873  83054          -1 ... -18.1190796     9.460351 0.7752819\n",
       "    11682  59859          -1 ... -16.5181885     8.597683 0.4837341\n",
       "    13147  63296          -1 ... -16.9666996    8.5803366 0.3011742\n",
       "     9023  51819          -1 ... -18.2963505    9.4059048 0.5818729\n",
       "     9519  53945          -1 ... -18.8124981    9.4254274 0.4123688\n",
       "     8601  50783          -1 ...  -20.919138   10.6588011 0.8123131\n",
       "     8815  51303          -1 ... -20.8886185   10.6740131 0.8654041\n",
       "    11931  60370          -1 ... -17.4676971    8.7129946 0.1652603\n",
       "      ...    ...         ... ...         ...          ...       ...\n",
       "     8863  51488          -1 ... -19.8455524    9.9333715 0.4926624\n",
       "    22089  86529          -1 ... -19.5009441    9.9452896 0.6594887\n",
       "   256891 708096          -1 ... -19.6831875   10.3056736  0.949131\n",
       "     8598  50776          -1 ... -20.0750446   10.2919426 0.7529831\n",
       "    22112  86571          -1 ... -19.1470356    9.6087093 0.3307228\n",
       "     8821  51313          -1 ... -18.5616894    9.6000957 0.6915188\n",
       "   256892 708097          -1 ...  -20.181736   10.4478168 0.9307709\n",
       "     8497  50583          -1 ... -20.5645924   10.4464808 0.7648182\n",
       "    17654  75127          -1 ... -15.3465586    8.1641798 0.5180769\n",
       "    34168 118469          -1 ... -15.9832354    8.1585703 0.2841549"
      ]
     },
     "execution_count": 24,
     "metadata": {},
     "output_type": "execute_result"
    }
   ],
   "source": [
    "coin = Table.read('tabla_coincidencias.csv', format='ascii')\n",
    "coin\n",
    "#plt.hist(coin['stellar_mass'])"
   ]
  }
 ],
 "metadata": {
  "kernelspec": {
   "display_name": "Python 3 (ipykernel)",
   "language": "python",
   "name": "python3"
  },
  "language_info": {
   "codemirror_mode": {
    "name": "ipython",
    "version": 3
   },
   "file_extension": ".py",
   "mimetype": "text/x-python",
   "name": "python",
   "nbconvert_exporter": "python",
   "pygments_lexer": "ipython3",
   "version": "3.11.4"
  }
 },
 "nbformat": 4,
 "nbformat_minor": 5
}
